{
 "cells": [
  {
   "cell_type": "code",
   "execution_count": 1,
   "id": "4229d3cd",
   "metadata": {},
   "outputs": [],
   "source": [
    "import airfrans as af"
   ]
  },
  {
   "cell_type": "code",
   "execution_count": 2,
   "id": "9ef67df3",
   "metadata": {},
   "outputs": [],
   "source": [
    "# af.dataset.download(root=\"/system/user/publicdata/airfrans\", file_name=\"dataset_preprocessed\", unzip=True, OpenFOAM=False)"
   ]
  },
  {
   "cell_type": "code",
   "execution_count": 3,
   "id": "b4148452",
   "metadata": {},
   "outputs": [
    {
     "data": {
      "application/vnd.microsoft.datawrangler.viewer.v0+json": {
       "columns": [
        {
         "name": "index",
         "rawType": "int64",
         "type": "integer"
        },
        {
         "name": "U_inlet",
         "rawType": "object",
         "type": "string"
        },
        {
         "name": "AoA",
         "rawType": "object",
         "type": "string"
        },
        {
         "name": "L",
         "rawType": "object",
         "type": "unknown"
        },
        {
         "name": "P",
         "rawType": "object",
         "type": "string"
        },
        {
         "name": "Q",
         "rawType": "object",
         "type": "unknown"
        },
        {
         "name": "XX",
         "rawType": "object",
         "type": "string"
        },
        {
         "name": "is_naca_4",
         "rawType": "bool",
         "type": "boolean"
        },
        {
         "name": "Re",
         "rawType": "float64",
         "type": "float"
        },
        {
         "name": "M",
         "rawType": "object",
         "type": "unknown"
        }
       ],
       "ref": "341ae3f0-1f4e-4d50-8b43-03235d300333",
       "rows": [
        [
         "0",
         "65.41",
         "1.556",
         "0.844",
         "5.048",
         "0.0",
         "11.641",
         "False",
         "4220504.202826632",
         null
        ],
        [
         "1",
         "53.247",
         "3.939",
         null,
         "2.169",
         null,
         "8.633",
         "True",
         "3435700.7688107276",
         "5.684"
        ],
        [
         "2",
         "84.774",
         "14.053",
         "3.28",
         "5.002",
         "1.0",
         "12.931",
         "False",
         "5469943.789793991",
         null
        ],
        [
         "3",
         "59.266",
         "-3.994",
         null,
         "2.719",
         null,
         "14.894",
         "True",
         "3824069.74598262",
         "5.206"
        ],
        [
         "4",
         "73.562",
         "9.666",
         null,
         "6.447",
         null,
         "11.081",
         "True",
         "4746502.52512357",
         "5.064"
        ],
        [
         "5",
         "59.071",
         "11.893",
         "0.004",
         "7.304",
         "1.0",
         "11.503",
         "False",
         "3811487.597694114",
         null
        ],
        [
         "6",
         "57.395",
         "6.878",
         "2.995",
         "4.987",
         "0.0",
         "7.482",
         "False",
         "3703345.6462503374",
         null
        ],
        [
         "7",
         "75.854",
         "8.667",
         "1.688",
         "7.032",
         "1.0",
         "12.494",
         "False",
         "4894391.160391551",
         null
        ],
        [
         "8",
         "87.082",
         "3.251",
         null,
         "5.735",
         null,
         "13.962",
         "True",
         "5618864.806460002",
         "2.193"
        ],
        [
         "9",
         "87.67",
         "10.55",
         "1.612",
         "7.225",
         "1.0",
         "13.709",
         "False",
         "5656804.822837653",
         null
        ],
        [
         "10",
         "78.164",
         "-1.095",
         null,
         "3.479",
         null,
         "6.946",
         "True",
         "5043441.224732318",
         "4.121"
        ],
        [
         "11",
         "59.245",
         "2.515",
         null,
         "6.044",
         null,
         "17.151",
         "True",
         "3822714.745397704",
         "1.376"
        ],
        [
         "12",
         "65.202",
         "-3.411",
         null,
         "5.063",
         null,
         "12.467",
         "True",
         "4207083.244652226",
         "1.499"
        ],
        [
         "13",
         "38.382",
         "-2.604",
         "2.772",
         "5.791",
         "0.0",
         "9.112",
         "False",
         "2476553.92620229",
         null
        ],
        [
         "14",
         "60.991",
         "-0.053",
         null,
         "1.545",
         null,
         "12.053",
         "True",
         "3935373.3654578677",
         "4.159"
        ],
        [
         "15",
         "56.878",
         "-0.901",
         "1.896",
         "4.81",
         "0.0",
         "18.072",
         "False",
         "3669986.8223264515",
         null
        ],
        [
         "16",
         "75.802",
         "5.209",
         "1.446",
         "5.183",
         "0.0",
         "11.243",
         "False",
         "4891035.92084795",
         null
        ],
        [
         "17",
         "84.896",
         "14.926",
         "3.517",
         "6.921",
         "0.0",
         "11.998",
         "False",
         "5477815.6979539795",
         null
        ],
        [
         "18",
         "85.932",
         "7.572",
         null,
         "4.563",
         null,
         "7.109",
         "True",
         "5544662.393476505",
         "5.082"
        ],
        [
         "19",
         "86.505",
         "5.929",
         null,
         "6.492",
         null,
         "18.111",
         "True",
         "5581634.5522935",
         "0.471"
        ],
        [
         "20",
         "50.206",
         "7.207",
         null,
         "5.713",
         null,
         "11.406",
         "True",
         "3239483.779347407",
         "3.049"
        ],
        [
         "21",
         "72.4",
         "10.237",
         null,
         "5.182",
         null,
         "16.934",
         "True",
         "4671525.826091548",
         "1.802"
        ],
        [
         "22",
         "67.701",
         "0.938",
         null,
         "0.0",
         null,
         "15.872",
         "True",
         "4368328.314257236",
         "6.996"
        ],
        [
         "23",
         "72.639",
         "13.978",
         "3.689",
         "7.041",
         "0.0",
         "9.686",
         "False",
         "4686947.023224641",
         null
        ],
        [
         "24",
         "43.958",
         "1.079",
         null,
         "2.076",
         null,
         "12.026",
         "True",
         "2836338.8434161916",
         "5.708"
        ],
        [
         "25",
         "31.677",
         "-0.742",
         null,
         "5.236",
         null,
         "5.651",
         "True",
         "2043921.5965898063",
         "2.926"
        ],
        [
         "26",
         "33.816",
         "-1.984",
         null,
         "0.0",
         null,
         "7.983",
         "True",
         "2181938.084739113",
         "6.59"
        ],
        [
         "27",
         "51.251",
         "0.288",
         "3.087",
         "5.592",
         "0.0",
         "12.178",
         "False",
         "3306911.189406325",
         null
        ],
        [
         "28",
         "62.111",
         "3.502",
         "0.905",
         "5.978",
         "1.0",
         "8.818",
         "False",
         "4007640.0633200575",
         null
        ],
        [
         "29",
         "43.677",
         "-1.764",
         "0.243",
         "7.109",
         "0.0",
         "19.17",
         "False",
         "2818207.6451132675",
         null
        ],
        [
         "30",
         "88.059",
         "8.244",
         "0.417",
         "6.024",
         "1.0",
         "14.488",
         "False",
         "5681904.5955772875",
         null
        ],
        [
         "31",
         "55.984",
         "-0.431",
         null,
         "5.834",
         null,
         "10.316",
         "True",
         "3612302.5117114536",
         "4.567"
        ],
        [
         "32",
         "88.307",
         "-4.328",
         "3.461",
         "7.533",
         "0.0",
         "15.226",
         "False",
         "5697906.507246773",
         null
        ],
        [
         "33",
         "38.419",
         "1.975",
         null,
         "2.288",
         null,
         "16.253",
         "True",
         "2478941.3081852375",
         "6.587"
        ],
        [
         "34",
         "53.943",
         "5.835",
         "1.916",
         "4.258",
         "1.0",
         "17.602",
         "False",
         "3480609.359625088",
         null
        ],
        [
         "35",
         "64.173",
         "1.751",
         "1.546",
         "7.336",
         "1.0",
         "18.982",
         "False",
         "4140688.215991339",
         null
        ],
        [
         "36",
         "67.706",
         "-0.1",
         null,
         "5.358",
         null,
         "10.058",
         "True",
         "4368650.933444121",
         "1.95"
        ],
        [
         "37",
         "37.26",
         "8.498",
         null,
         "4.252",
         null,
         "6.054",
         "True",
         "2404158.1806653463",
         "2.099"
        ],
        [
         "38",
         "60.711",
         "3.967",
         "2.64",
         "3.548",
         "0.0",
         "5.376",
         "False",
         "3917306.6909923204",
         null
        ],
        [
         "39",
         "54.54",
         "6.479",
         "3.242",
         "4.457",
         "0.0",
         "5.584",
         "False",
         "3519130.0905391304",
         null
        ],
        [
         "40",
         "42.977",
         "8.798",
         "0.92",
         "7.893",
         "1.0",
         "11.332",
         "False",
         "2773040.9589493987",
         null
        ],
        [
         "41",
         "79.844",
         "5.144",
         "0.947",
         "7.443",
         "0.0",
         "12.405",
         "False",
         "5151841.271525602",
         null
        ],
        [
         "42",
         "78.897",
         "0.911",
         "0.977",
         "3.527",
         "1.0",
         "17.536",
         "False",
         "5090737.197529626",
         null
        ],
        [
         "43",
         "32.902",
         "8.203",
         "2.59",
         "6.258",
         "1.0",
         "14.519",
         "False",
         "2122963.2973765763",
         null
        ],
        [
         "44",
         "43.327",
         "8.905",
         null,
         "6.511",
         null,
         "10.744",
         "True",
         "2795624.302031333",
         "4.236"
        ],
        [
         "45",
         "39.741",
         "14.642",
         "3.175",
         "3.316",
         "1.0",
         "10.583",
         "False",
         "2564241.821197572",
         null
        ],
        [
         "46",
         "34.112",
         "-0.415",
         null,
         "0.0",
         null,
         "19.649",
         "True",
         "2201037.140602692",
         "3.388"
        ],
        [
         "47",
         "73.782",
         "8.79",
         null,
         "0.0",
         null,
         "16.831",
         "True",
         "4760697.7693465",
         "1.673"
        ],
        [
         "48",
         "38.802",
         "5.507",
         "3.497",
         "7.184",
         "1.0",
         "10.971",
         "False",
         "2503653.937900611",
         null
        ],
        [
         "49",
         "33.238",
         "-0.071",
         null,
         "2.065",
         null,
         "6.479",
         "True",
         "2144643.3067352334",
         "0.667"
        ]
       ],
       "shape": {
        "columns": 9,
        "rows": 1000
       }
      },
      "text/html": [
       "<div>\n",
       "<style scoped>\n",
       "    .dataframe tbody tr th:only-of-type {\n",
       "        vertical-align: middle;\n",
       "    }\n",
       "\n",
       "    .dataframe tbody tr th {\n",
       "        vertical-align: top;\n",
       "    }\n",
       "\n",
       "    .dataframe thead th {\n",
       "        text-align: right;\n",
       "    }\n",
       "</style>\n",
       "<table border=\"1\" class=\"dataframe\">\n",
       "  <thead>\n",
       "    <tr style=\"text-align: right;\">\n",
       "      <th></th>\n",
       "      <th>U_inlet</th>\n",
       "      <th>AoA</th>\n",
       "      <th>L</th>\n",
       "      <th>P</th>\n",
       "      <th>Q</th>\n",
       "      <th>XX</th>\n",
       "      <th>is_naca_4</th>\n",
       "      <th>Re</th>\n",
       "      <th>M</th>\n",
       "    </tr>\n",
       "  </thead>\n",
       "  <tbody>\n",
       "    <tr>\n",
       "      <th>0</th>\n",
       "      <td>65.41</td>\n",
       "      <td>1.556</td>\n",
       "      <td>0.844</td>\n",
       "      <td>5.048</td>\n",
       "      <td>0.0</td>\n",
       "      <td>11.641</td>\n",
       "      <td>False</td>\n",
       "      <td>4.220504e+06</td>\n",
       "      <td>NaN</td>\n",
       "    </tr>\n",
       "    <tr>\n",
       "      <th>1</th>\n",
       "      <td>53.247</td>\n",
       "      <td>3.939</td>\n",
       "      <td>NaN</td>\n",
       "      <td>2.169</td>\n",
       "      <td>NaN</td>\n",
       "      <td>8.633</td>\n",
       "      <td>True</td>\n",
       "      <td>3.435701e+06</td>\n",
       "      <td>5.684</td>\n",
       "    </tr>\n",
       "    <tr>\n",
       "      <th>2</th>\n",
       "      <td>84.774</td>\n",
       "      <td>14.053</td>\n",
       "      <td>3.28</td>\n",
       "      <td>5.002</td>\n",
       "      <td>1.0</td>\n",
       "      <td>12.931</td>\n",
       "      <td>False</td>\n",
       "      <td>5.469944e+06</td>\n",
       "      <td>NaN</td>\n",
       "    </tr>\n",
       "    <tr>\n",
       "      <th>3</th>\n",
       "      <td>59.266</td>\n",
       "      <td>-3.994</td>\n",
       "      <td>NaN</td>\n",
       "      <td>2.719</td>\n",
       "      <td>NaN</td>\n",
       "      <td>14.894</td>\n",
       "      <td>True</td>\n",
       "      <td>3.824070e+06</td>\n",
       "      <td>5.206</td>\n",
       "    </tr>\n",
       "    <tr>\n",
       "      <th>4</th>\n",
       "      <td>73.562</td>\n",
       "      <td>9.666</td>\n",
       "      <td>NaN</td>\n",
       "      <td>6.447</td>\n",
       "      <td>NaN</td>\n",
       "      <td>11.081</td>\n",
       "      <td>True</td>\n",
       "      <td>4.746503e+06</td>\n",
       "      <td>5.064</td>\n",
       "    </tr>\n",
       "    <tr>\n",
       "      <th>...</th>\n",
       "      <td>...</td>\n",
       "      <td>...</td>\n",
       "      <td>...</td>\n",
       "      <td>...</td>\n",
       "      <td>...</td>\n",
       "      <td>...</td>\n",
       "      <td>...</td>\n",
       "      <td>...</td>\n",
       "      <td>...</td>\n",
       "    </tr>\n",
       "    <tr>\n",
       "      <th>995</th>\n",
       "      <td>47.759</td>\n",
       "      <td>12.055</td>\n",
       "      <td>NaN</td>\n",
       "      <td>3.807</td>\n",
       "      <td>NaN</td>\n",
       "      <td>6.823</td>\n",
       "      <td>True</td>\n",
       "      <td>3.081594e+06</td>\n",
       "      <td>6.06</td>\n",
       "    </tr>\n",
       "    <tr>\n",
       "      <th>996</th>\n",
       "      <td>43.22</td>\n",
       "      <td>2.151</td>\n",
       "      <td>0.231</td>\n",
       "      <td>7.553</td>\n",
       "      <td>1.0</td>\n",
       "      <td>8.814</td>\n",
       "      <td>False</td>\n",
       "      <td>2.788720e+06</td>\n",
       "      <td>NaN</td>\n",
       "    </tr>\n",
       "    <tr>\n",
       "      <th>997</th>\n",
       "      <td>58.582</td>\n",
       "      <td>2.593</td>\n",
       "      <td>0.722</td>\n",
       "      <td>7.034</td>\n",
       "      <td>0.0</td>\n",
       "      <td>16.194</td>\n",
       "      <td>False</td>\n",
       "      <td>3.779935e+06</td>\n",
       "      <td>NaN</td>\n",
       "    </tr>\n",
       "    <tr>\n",
       "      <th>998</th>\n",
       "      <td>62.893</td>\n",
       "      <td>-0.786</td>\n",
       "      <td>NaN</td>\n",
       "      <td>0.0</td>\n",
       "      <td>NaN</td>\n",
       "      <td>17.071</td>\n",
       "      <td>True</td>\n",
       "      <td>4.058098e+06</td>\n",
       "      <td>3.167</td>\n",
       "    </tr>\n",
       "    <tr>\n",
       "      <th>999</th>\n",
       "      <td>47.547</td>\n",
       "      <td>-3.5</td>\n",
       "      <td>0.651</td>\n",
       "      <td>6.733</td>\n",
       "      <td>1.0</td>\n",
       "      <td>10.634</td>\n",
       "      <td>False</td>\n",
       "      <td>3.067915e+06</td>\n",
       "      <td>NaN</td>\n",
       "    </tr>\n",
       "  </tbody>\n",
       "</table>\n",
       "<p>1000 rows × 9 columns</p>\n",
       "</div>"
      ],
      "text/plain": [
       "    U_inlet     AoA      L      P    Q      XX  is_naca_4            Re      M\n",
       "0     65.41   1.556  0.844  5.048  0.0  11.641      False  4.220504e+06    NaN\n",
       "1    53.247   3.939    NaN  2.169  NaN   8.633       True  3.435701e+06  5.684\n",
       "2    84.774  14.053   3.28  5.002  1.0  12.931      False  5.469944e+06    NaN\n",
       "3    59.266  -3.994    NaN  2.719  NaN  14.894       True  3.824070e+06  5.206\n",
       "4    73.562   9.666    NaN  6.447  NaN  11.081       True  4.746503e+06  5.064\n",
       "..      ...     ...    ...    ...  ...     ...        ...           ...    ...\n",
       "995  47.759  12.055    NaN  3.807  NaN   6.823       True  3.081594e+06   6.06\n",
       "996   43.22   2.151  0.231  7.553  1.0   8.814      False  2.788720e+06    NaN\n",
       "997  58.582   2.593  0.722  7.034  0.0  16.194      False  3.779935e+06    NaN\n",
       "998  62.893  -0.786    NaN    0.0  NaN  17.071       True  4.058098e+06  3.167\n",
       "999  47.547    -3.5  0.651  6.733  1.0  10.634      False  3.067915e+06    NaN\n",
       "\n",
       "[1000 rows x 9 columns]"
      ]
     },
     "execution_count": 3,
     "metadata": {},
     "output_type": "execute_result"
    }
   ],
   "source": [
    "import os\n",
    "import os.path as osp\n",
    "\n",
    "import pandas as pd\n",
    "\n",
    "\n",
    "T = 298.15\n",
    "NU = -3.400747e-6 + 3.452139e-8*T + 1.00881778e-10*T**2 - 1.363528e-14*T**3\n",
    "\n",
    "# plotting dataset sampling distribution\n",
    "# dataset_path = \"/system/user/publicdata/airfrans/OF_dataset\"\n",
    "dataset_path = \"/local00/bioinf/airfrans/full_dataset_downscaled\"\n",
    "params_naca_4 = [\"U_inlet\", \"AoA\", \"M\", \"P\", \"XX\"]\n",
    "params_naca_5 = [\"U_inlet\", \"AoA\", \"L\", \"P\", \"Q\", \"XX\"]\n",
    "df = []\n",
    "for sim_folder in os.listdir(dataset_path):\n",
    "    if \"Init\" in sim_folder:\n",
    "        continue\n",
    "    if \".json\" in sim_folder:\n",
    "        continue\n",
    "    configs = sim_folder.split(\"_\")[2:]  # remove first two (airfoil2D, SST)\n",
    "    is_naca_4 = True if len(configs) == 5 else False\n",
    "    param_names = params_naca_4 if is_naca_4 else params_naca_5\n",
    "    row = {}\n",
    "    for i, param in enumerate(configs):\n",
    "        row[param_names[i]] = param\n",
    "    row[\"is_naca_4\"] = is_naca_4\n",
    "    row[\"Re\"] = float(row[\"U_inlet\"]) / NU\n",
    "\n",
    "    df.append(row)\n",
    "\n",
    "df = pd.DataFrame(df)\n",
    "    \n",
    "df"
   ]
  },
  {
   "cell_type": "code",
   "execution_count": 4,
   "id": "19926c85",
   "metadata": {},
   "outputs": [
    {
     "data": {
      "text/plain": [
       "1001"
      ]
     },
     "execution_count": 4,
     "metadata": {},
     "output_type": "execute_result"
    }
   ],
   "source": [
    "sims = (os.listdir(dataset_path))\n",
    "len(sims)"
   ]
  },
  {
   "cell_type": "code",
   "execution_count": 5,
   "id": "abcfc141",
   "metadata": {},
   "outputs": [
    {
     "name": "stdout",
     "output_type": "stream",
     "text": [
      "Length of the full dataset: 1000\n",
      "Number of missing simulations: 0\n"
     ]
    }
   ],
   "source": [
    "import json\n",
    "\n",
    "json_path = \"/system/user/publicwork/setinek/scaling_laws/manifest.json\"\n",
    "with open(json_path, 'r') as file:\n",
    "    data = json.load(file)\n",
    "full_dataset = data[\"full_train\"] + data[\"full_test\"]\n",
    "print(f\"Length of the full dataset: {len(full_dataset)}\")\n",
    "missing = list(set(full_dataset) - set(sims))\n",
    "print(f\"Number of missing simulations: {len(missing)}\")"
   ]
  },
  {
   "cell_type": "code",
   "execution_count": 6,
   "id": "e76e7dd5",
   "metadata": {},
   "outputs": [
    {
     "name": "stdout",
     "output_type": "stream",
     "text": [
      "Missing simulations: []\n"
     ]
    }
   ],
   "source": [
    "print(\"Missing simulations:\", missing)"
   ]
  },
  {
   "cell_type": "code",
   "execution_count": 7,
   "id": "93650f11",
   "metadata": {},
   "outputs": [],
   "source": [
    "too_many = list(set(sims) - set(full_dataset))"
   ]
  },
  {
   "cell_type": "code",
   "execution_count": 8,
   "id": "2c8313f9",
   "metadata": {},
   "outputs": [
    {
     "data": {
      "text/plain": [
       "['airFoil2DInit']"
      ]
     },
     "execution_count": 8,
     "metadata": {},
     "output_type": "execute_result"
    }
   ],
   "source": [
    "too_many"
   ]
  },
  {
   "cell_type": "code",
   "execution_count": null,
   "id": "bce0e808",
   "metadata": {},
   "outputs": [],
   "source": []
  }
 ],
 "metadata": {
  "kernelspec": {
   "display_name": "scaling_laws",
   "language": "python",
   "name": "python3"
  },
  "language_info": {
   "codemirror_mode": {
    "name": "ipython",
    "version": 3
   },
   "file_extension": ".py",
   "mimetype": "text/x-python",
   "name": "python",
   "nbconvert_exporter": "python",
   "pygments_lexer": "ipython3",
   "version": "3.12.11"
  }
 },
 "nbformat": 4,
 "nbformat_minor": 5
}
