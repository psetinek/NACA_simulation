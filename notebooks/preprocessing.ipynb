{
 "cells": [
  {
   "cell_type": "code",
   "execution_count": 1,
   "id": "8476b7e0",
   "metadata": {},
   "outputs": [],
   "source": [
    "import os\n",
    "import glob\n",
    "\n",
    "import pyvista as pv"
   ]
  },
  {
   "cell_type": "code",
   "execution_count": 2,
   "id": "478c0e04",
   "metadata": {},
   "outputs": [],
   "source": [
    "CLIP_BOUNDS = (-2, 4, -1.5, 1.5, 0.5, 0.5)\n",
    "\n",
    "SLICE_NORMAL = (0, 0, 1)\n",
    "SLICE_ORIGIN = (0, 0, 0.5)\n",
    "\n",
    "INTERNAL_FIELDS = [\"p\", \"U\", \"nut\", \"implicit_distance\"]\n",
    "AERO_FIELDS     = [\"p\", \"U\", \"nut\", \"Normals\"]   # “Normals” is what PyVista calls the computed normals\n",
    "FREE_FIELDS     = [\"p\", \"U\", \"nut\"]\n",
    "\n",
    "internal_path = \"/local00/bioinf/airfrans/Simulations/airFoil2D_SST_31.283_-4.156_0.919_6.98_14.32/VTK/airFoil2D_SST_31.283_-4.156_0.919_6.98_14.32_20000/internal.vtu\"\n",
    "aerofoil_path = \"/local00/bioinf/airfrans/Simulations/airFoil2D_SST_31.283_-4.156_0.919_6.98_14.32/VTK/airFoil2D_SST_31.283_-4.156_0.919_6.98_14.32_20000/boundary/aerofoil.vtp\"\n",
    "freestream_path = \"/local00/bioinf/airfrans/Simulations/airFoil2D_SST_31.283_-4.156_0.919_6.98_14.32/VTK/airFoil2D_SST_31.283_-4.156_0.919_6.98_14.32_20000/boundary/freestream.vtp\"\n",
    "\n",
    "internal_saving_path = \"/system/user/publicdata/airfrans/Dataset_preprocessed/airFoil2D_SST_31.283_-4.156_0.919_6.98_14.32/internal.vtu\"\n",
    "aerofoil_saving_path = \"/system/user/publicdata/airfrans/Dataset_preprocessed/airFoil2D_SST_31.283_-4.156_0.919_6.98_14.32/aerofoil.vtp\"\n",
    "freestream_saving_path = \"/system/user/publicdata/airfrans/Dataset_preprocessed/airFoil2D_SST_31.283_-4.156_0.919_6.98_14.32/freestream.vtp\"\n"
   ]
  },
  {
   "cell_type": "code",
   "execution_count": 3,
   "id": "1df68724",
   "metadata": {},
   "outputs": [],
   "source": [
    "def select_fields(ds, names):\n",
    "    \"\"\"Return a copy of `ds` carrying *only* the arrays in `names`.\"\"\"\n",
    "    out = ds.copy()\n",
    "    # point‐data\n",
    "    for arr in list(out.point_data.keys()):\n",
    "        if arr not in names:\n",
    "            out.point_data.remove(arr)\n",
    "    # cell‐data\n",
    "    for arr in list(out.cell_data.keys()):\n",
    "        if arr not in names:\n",
    "            out.cell_data.remove(arr)\n",
    "    return out"
   ]
  },
  {
   "cell_type": "code",
   "execution_count": 4,
   "id": "26706e95",
   "metadata": {},
   "outputs": [
    {
     "data": {
      "text/html": [
       "<table style='width: 100%;'><tr><th>Header</th><th>Data Arrays</th></tr><tr><td>\n",
       "<table style='width: 100%;'>\n",
       "<tr><th>UnstructuredGrid</th><th>Information</th></tr>\n",
       "<tr><td>N Cells</td><td>276860</td></tr>\n",
       "<tr><td>N Points</td><td>556420</td></tr>\n",
       "<tr><td>X Bounds</td><td>-2.000e+02, 2.000e+02</td></tr>\n",
       "<tr><td>Y Bounds</td><td>-2.000e+02, 2.000e+02</td></tr>\n",
       "<tr><td>Z Bounds</td><td>0.000e+00, 1.000e+00</td></tr>\n",
       "<tr><td>N Arrays</td><td>9</td></tr>\n",
       "</table>\n",
       "\n",
       "</td><td>\n",
       "<table style='width: 100%;'>\n",
       "<tr><th>Name</th><th>Field</th><th>Type</th><th>N Comp</th><th>Min</th><th>Max</th></tr>\n",
       "<tr><td>nut</td><td>Points</td><td>float32</td><td>1</td><td>0.000e+00</td><td>5.269e-03</td></tr>\n",
       "<tr><td>p</td><td>Points</td><td>float32</td><td>1</td><td>-6.429e+02</td><td>4.899e+02</td></tr>\n",
       "<tr><td>U</td><td>Points</td><td>float32</td><td>3</td><td>-3.529e+01</td><td>4.402e+01</td></tr>\n",
       "<tr><td>wallShearStress</td><td>Points</td><td>float32</td><td>3</td><td>-4.811e+00</td><td>6.244e+00</td></tr>\n",
       "<tr><td>nut</td><td>Cells</td><td>float32</td><td>1</td><td>5.750e-18</td><td>5.271e-03</td></tr>\n",
       "<tr><td>p</td><td>Cells</td><td>float32</td><td>1</td><td>-6.431e+02</td><td>4.900e+02</td></tr>\n",
       "<tr><td>U</td><td>Cells</td><td>float32</td><td>3</td><td>-3.529e+01</td><td>4.403e+01</td></tr>\n",
       "<tr><td>wallShearStress</td><td>Cells</td><td>float32</td><td>3</td><td>0.000e+00</td><td>0.000e+00</td></tr>\n",
       "<tr><td>TimeValue</td><td>Fields</td><td>float32</td><td>1</td><td>2.000e+04</td><td>2.000e+04</td></tr>\n",
       "</table>\n",
       "\n",
       "</td></tr> </table>"
      ],
      "text/plain": [
       "UnstructuredGrid (0x7f786ad8bdc0)\n",
       "  N Cells:    276860\n",
       "  N Points:   556420\n",
       "  X Bounds:   -2.000e+02, 2.000e+02\n",
       "  Y Bounds:   -2.000e+02, 2.000e+02\n",
       "  Z Bounds:   0.000e+00, 1.000e+00\n",
       "  N Arrays:   9"
      ]
     },
     "execution_count": 4,
     "metadata": {},
     "output_type": "execute_result"
    }
   ],
   "source": [
    "internal = pv.read(internal_path)\n",
    "internal"
   ]
  },
  {
   "cell_type": "code",
   "execution_count": 5,
   "id": "a89eba89",
   "metadata": {},
   "outputs": [
    {
     "name": "stderr",
     "output_type": "stream",
     "text": [
      "Clipping a Dataset by a Bounding Box: 100%|██████████[00:54<00:00]\n"
     ]
    },
    {
     "data": {
      "text/html": [
       "<table style='width: 100%;'><tr><th>Header</th><th>Data Arrays</th></tr><tr><td>\n",
       "<table style='width: 100%;'>\n",
       "<tr><th>UnstructuredGrid</th><th>Information</th></tr>\n",
       "<tr><td>N Cells</td><td>176178</td></tr>\n",
       "<tr><td>N Points</td><td>354832</td></tr>\n",
       "<tr><td>X Bounds</td><td>-2.159e+00, 4.226e+00</td></tr>\n",
       "<tr><td>Y Bounds</td><td>-1.616e+00, 1.617e+00</td></tr>\n",
       "<tr><td>Z Bounds</td><td>0.000e+00, 1.000e+00</td></tr>\n",
       "<tr><td>N Arrays</td><td>12</td></tr>\n",
       "</table>\n",
       "\n",
       "</td><td>\n",
       "<table style='width: 100%;'>\n",
       "<tr><th>Name</th><th>Field</th><th>Type</th><th>N Comp</th><th>Min</th><th>Max</th></tr>\n",
       "<tr><td>nut</td><td>Points</td><td>float32</td><td>1</td><td>0.000e+00</td><td>5.269e-03</td></tr>\n",
       "<tr><td>p</td><td>Points</td><td>float32</td><td>1</td><td>-6.429e+02</td><td>4.899e+02</td></tr>\n",
       "<tr><td>U</td><td>Points</td><td>float32</td><td>3</td><td>-3.529e+01</td><td>4.402e+01</td></tr>\n",
       "<tr><td>wallShearStress</td><td>Points</td><td>float32</td><td>3</td><td>-4.811e+00</td><td>6.244e+00</td></tr>\n",
       "<tr><td>vtkOriginalPointIds</td><td>Points</td><td>int64</td><td>1</td><td>5.700e+01</td><td>5.401e+05</td></tr>\n",
       "<tr><td>nut</td><td>Cells</td><td>float32</td><td>1</td><td>5.750e-18</td><td>5.271e-03</td></tr>\n",
       "<tr><td>p</td><td>Cells</td><td>float32</td><td>1</td><td>-6.431e+02</td><td>4.900e+02</td></tr>\n",
       "<tr><td>U</td><td>Cells</td><td>float32</td><td>3</td><td>-3.529e+01</td><td>4.403e+01</td></tr>\n",
       "<tr><td>wallShearStress</td><td>Cells</td><td>float32</td><td>3</td><td>0.000e+00</td><td>0.000e+00</td></tr>\n",
       "<tr><td><b>cell_ids</b></td><td>Cells</td><td>int64</td><td>1</td><td>5.700e+01</td><td>2.605e+05</td></tr>\n",
       "<tr><td>vtkOriginalCellIds</td><td>Cells</td><td>int64</td><td>1</td><td>5.700e+01</td><td>2.605e+05</td></tr>\n",
       "<tr><td>TimeValue</td><td>Fields</td><td>float32</td><td>1</td><td>2.000e+04</td><td>2.000e+04</td></tr>\n",
       "</table>\n",
       "\n",
       "</td></tr> </table>"
      ],
      "text/plain": [
       "UnstructuredGrid (0x7f786ac65fc0)\n",
       "  N Cells:    176178\n",
       "  N Points:   354832\n",
       "  X Bounds:   -2.159e+00, 4.226e+00\n",
       "  Y Bounds:   -1.616e+00, 1.617e+00\n",
       "  Z Bounds:   0.000e+00, 1.000e+00\n",
       "  N Arrays:   12"
      ]
     },
     "execution_count": 5,
     "metadata": {},
     "output_type": "execute_result"
    }
   ],
   "source": [
    "# clip box\n",
    "CLIP_BOUNDS = (-2, 4, -1.5, 1.5, 0, 1)\n",
    "\n",
    "internal = internal.clip_box(bounds=CLIP_BOUNDS, crinkle=True, progress_bar=True, invert=False)  # clip box\n",
    "internal"
   ]
  },
  {
   "cell_type": "code",
   "execution_count": 6,
   "id": "f55ad4b9",
   "metadata": {},
   "outputs": [
    {
     "name": "stderr",
     "output_type": "stream",
     "text": [
      "Slicing: 100%|██████████[00:02<00:00]\n"
     ]
    },
    {
     "data": {
      "text/html": [
       "<table style='width: 100%;'><tr><th>Header</th><th>Data Arrays</th></tr><tr><td>\n",
       "<table style='width: 100%;'>\n",
       "<tr><th>PolyData</th><th>Information</th></tr>\n",
       "<tr><td>N Cells</td><td>176178</td></tr>\n",
       "<tr><td>N Points</td><td>177416</td></tr>\n",
       "<tr><td>N Strips</td><td>0</td></tr>\n",
       "<tr><td>X Bounds</td><td>-2.159e+00, 4.226e+00</td></tr>\n",
       "<tr><td>Y Bounds</td><td>-1.616e+00, 1.617e+00</td></tr>\n",
       "<tr><td>Z Bounds</td><td>5.000e-01, 5.000e-01</td></tr>\n",
       "<tr><td>N Arrays</td><td>11</td></tr>\n",
       "</table>\n",
       "\n",
       "</td><td>\n",
       "<table style='width: 100%;'>\n",
       "<tr><th>Name</th><th>Field</th><th>Type</th><th>N Comp</th><th>Min</th><th>Max</th></tr>\n",
       "<tr><td>nut</td><td>Points</td><td>float32</td><td>1</td><td>0.000e+00</td><td>5.269e-03</td></tr>\n",
       "<tr><td>p</td><td>Points</td><td>float32</td><td>1</td><td>-6.429e+02</td><td>4.899e+02</td></tr>\n",
       "<tr><td>U</td><td>Points</td><td>float32</td><td>3</td><td>-3.529e+01</td><td>4.402e+01</td></tr>\n",
       "<tr><td>wallShearStress</td><td>Points</td><td>float32</td><td>3</td><td>-4.811e+00</td><td>6.244e+00</td></tr>\n",
       "<tr><td>nut</td><td>Cells</td><td>float32</td><td>1</td><td>5.750e-18</td><td>5.271e-03</td></tr>\n",
       "<tr><td>p</td><td>Cells</td><td>float32</td><td>1</td><td>-6.431e+02</td><td>4.900e+02</td></tr>\n",
       "<tr><td>U</td><td>Cells</td><td>float32</td><td>3</td><td>-3.529e+01</td><td>4.403e+01</td></tr>\n",
       "<tr><td>wallShearStress</td><td>Cells</td><td>float32</td><td>3</td><td>0.000e+00</td><td>0.000e+00</td></tr>\n",
       "<tr><td><b>cell_ids</b></td><td>Cells</td><td>int64</td><td>1</td><td>5.700e+01</td><td>2.605e+05</td></tr>\n",
       "<tr><td>vtkOriginalCellIds</td><td>Cells</td><td>int64</td><td>1</td><td>5.700e+01</td><td>2.605e+05</td></tr>\n",
       "<tr><td>TimeValue</td><td>Fields</td><td>float32</td><td>1</td><td>2.000e+04</td><td>2.000e+04</td></tr>\n",
       "</table>\n",
       "\n",
       "</td></tr> </table>"
      ],
      "text/plain": [
       "PolyData (0x7f786ac1bca0)\n",
       "  N Cells:    176178\n",
       "  N Points:   177416\n",
       "  N Strips:   0\n",
       "  X Bounds:   -2.159e+00, 4.226e+00\n",
       "  Y Bounds:   -1.616e+00, 1.617e+00\n",
       "  Z Bounds:   5.000e-01, 5.000e-01\n",
       "  N Arrays:   11"
      ]
     },
     "execution_count": 6,
     "metadata": {},
     "output_type": "execute_result"
    }
   ],
   "source": [
    "# slice to 2D\n",
    "SLICE_NORMAL = (0, 0, 1)\n",
    "SLICE_ORIGIN = (0, 0, 0.5)\n",
    "\n",
    "internal = internal.slice(normal=SLICE_NORMAL,\n",
    "                      origin=SLICE_ORIGIN,\n",
    "                      generate_triangles=False,\n",
    "                      progress_bar=True)\n",
    "internal"
   ]
  },
  {
   "cell_type": "code",
   "execution_count": 7,
   "id": "6f905a28",
   "metadata": {},
   "outputs": [
    {
     "data": {
      "text/html": [
       "<table style='width: 100%;'><tr><th>Header</th><th>Data Arrays</th></tr><tr><td>\n",
       "<table style='width: 100%;'>\n",
       "<tr><th>PolyData</th><th>Information</th></tr>\n",
       "<tr><td>N Cells</td><td>994</td></tr>\n",
       "<tr><td>N Points</td><td>1988</td></tr>\n",
       "<tr><td>N Strips</td><td>0</td></tr>\n",
       "<tr><td>X Bounds</td><td>-7.739e-06, 1.000e+00</td></tr>\n",
       "<tr><td>Y Bounds</td><td>-6.562e-02, 7.800e-02</td></tr>\n",
       "<tr><td>Z Bounds</td><td>0.000e+00, 1.000e+00</td></tr>\n",
       "<tr><td>N Arrays</td><td>9</td></tr>\n",
       "</table>\n",
       "\n",
       "</td><td>\n",
       "<table style='width: 100%;'>\n",
       "<tr><th>Name</th><th>Field</th><th>Type</th><th>N Comp</th><th>Min</th><th>Max</th></tr>\n",
       "<tr><td>nut</td><td>Points</td><td>float32</td><td>1</td><td>0.000e+00</td><td>0.000e+00</td></tr>\n",
       "<tr><td>p</td><td>Points</td><td>float32</td><td>1</td><td>-6.429e+02</td><td>4.899e+02</td></tr>\n",
       "<tr><td>U</td><td>Points</td><td>float32</td><td>3</td><td>0.000e+00</td><td>0.000e+00</td></tr>\n",
       "<tr><td>wallShearStress</td><td>Points</td><td>float32</td><td>3</td><td>-4.811e+00</td><td>6.244e+00</td></tr>\n",
       "<tr><td>nut</td><td>Cells</td><td>float32</td><td>1</td><td>0.000e+00</td><td>0.000e+00</td></tr>\n",
       "<tr><td>p</td><td>Cells</td><td>float32</td><td>1</td><td>-6.431e+02</td><td>4.900e+02</td></tr>\n",
       "<tr><td>U</td><td>Cells</td><td>float32</td><td>3</td><td>0.000e+00</td><td>0.000e+00</td></tr>\n",
       "<tr><td>wallShearStress</td><td>Cells</td><td>float32</td><td>3</td><td>-4.812e+00</td><td>6.244e+00</td></tr>\n",
       "<tr><td>TimeValue</td><td>Fields</td><td>float32</td><td>1</td><td>2.000e+04</td><td>2.000e+04</td></tr>\n",
       "</table>\n",
       "\n",
       "</td></tr> </table>"
      ],
      "text/plain": [
       "PolyData (0x7f786ac180a0)\n",
       "  N Cells:    994\n",
       "  N Points:   1988\n",
       "  N Strips:   0\n",
       "  X Bounds:   -7.739e-06, 1.000e+00\n",
       "  Y Bounds:   -6.562e-02, 7.800e-02\n",
       "  Z Bounds:   0.000e+00, 1.000e+00\n",
       "  N Arrays:   9"
      ]
     },
     "execution_count": 7,
     "metadata": {},
     "output_type": "execute_result"
    }
   ],
   "source": [
    "aerofoil = pv.read(aerofoil_path)\n",
    "aerofoil"
   ]
  },
  {
   "cell_type": "code",
   "execution_count": 8,
   "id": "84dce208",
   "metadata": {},
   "outputs": [
    {
     "data": {
      "text/html": [
       "<table style='width: 100%;'><tr><th>Header</th><th>Data Arrays</th></tr><tr><td>\n",
       "<table style='width: 100%;'>\n",
       "<tr><th>PolyData</th><th>Information</th></tr>\n",
       "<tr><td>N Cells</td><td>176178</td></tr>\n",
       "<tr><td>N Points</td><td>177416</td></tr>\n",
       "<tr><td>N Strips</td><td>0</td></tr>\n",
       "<tr><td>X Bounds</td><td>-2.159e+00, 4.226e+00</td></tr>\n",
       "<tr><td>Y Bounds</td><td>-1.616e+00, 1.617e+00</td></tr>\n",
       "<tr><td>Z Bounds</td><td>5.000e-01, 5.000e-01</td></tr>\n",
       "<tr><td>N Arrays</td><td>12</td></tr>\n",
       "</table>\n",
       "\n",
       "</td><td>\n",
       "<table style='width: 100%;'>\n",
       "<tr><th>Name</th><th>Field</th><th>Type</th><th>N Comp</th><th>Min</th><th>Max</th></tr>\n",
       "<tr><td>nut</td><td>Points</td><td>float32</td><td>1</td><td>0.000e+00</td><td>5.269e-03</td></tr>\n",
       "<tr><td>p</td><td>Points</td><td>float32</td><td>1</td><td>-6.429e+02</td><td>4.899e+02</td></tr>\n",
       "<tr><td>U</td><td>Points</td><td>float32</td><td>3</td><td>-3.529e+01</td><td>4.402e+01</td></tr>\n",
       "<tr><td>wallShearStress</td><td>Points</td><td>float32</td><td>3</td><td>-4.811e+00</td><td>6.244e+00</td></tr>\n",
       "<tr><td>implicit_distance</td><td>Points</td><td>float64</td><td>1</td><td>-3.543e+00</td><td>-0.000e+00</td></tr>\n",
       "<tr><td>nut</td><td>Cells</td><td>float32</td><td>1</td><td>5.750e-18</td><td>5.271e-03</td></tr>\n",
       "<tr><td>p</td><td>Cells</td><td>float32</td><td>1</td><td>-6.431e+02</td><td>4.900e+02</td></tr>\n",
       "<tr><td>U</td><td>Cells</td><td>float32</td><td>3</td><td>-3.529e+01</td><td>4.403e+01</td></tr>\n",
       "<tr><td>wallShearStress</td><td>Cells</td><td>float32</td><td>3</td><td>0.000e+00</td><td>0.000e+00</td></tr>\n",
       "<tr><td><b>cell_ids</b></td><td>Cells</td><td>int64</td><td>1</td><td>5.700e+01</td><td>2.605e+05</td></tr>\n",
       "<tr><td>vtkOriginalCellIds</td><td>Cells</td><td>int64</td><td>1</td><td>5.700e+01</td><td>2.605e+05</td></tr>\n",
       "<tr><td>TimeValue</td><td>Fields</td><td>float32</td><td>1</td><td>2.000e+04</td><td>2.000e+04</td></tr>\n",
       "</table>\n",
       "\n",
       "</td></tr> </table>"
      ],
      "text/plain": [
       "PolyData (0x7f786ac65f00)\n",
       "  N Cells:    176178\n",
       "  N Points:   177416\n",
       "  N Strips:   0\n",
       "  X Bounds:   -2.159e+00, 4.226e+00\n",
       "  Y Bounds:   -1.616e+00, 1.617e+00\n",
       "  Z Bounds:   5.000e-01, 5.000e-01\n",
       "  N Arrays:   12"
      ]
     },
     "execution_count": 8,
     "metadata": {},
     "output_type": "execute_result"
    }
   ],
   "source": [
    "# compute sdf to airfoil\n",
    "internal = internal.compute_implicit_distance(aerofoil)\n",
    "internal"
   ]
  },
  {
   "cell_type": "code",
   "execution_count": 9,
   "id": "649304a5",
   "metadata": {},
   "outputs": [
    {
     "data": {
      "text/html": [
       "<table style='width: 100%;'><tr><th>Header</th><th>Data Arrays</th></tr><tr><td>\n",
       "<table style='width: 100%;'>\n",
       "<tr><th>PolyData</th><th>Information</th></tr>\n",
       "<tr><td>N Cells</td><td>176178</td></tr>\n",
       "<tr><td>N Points</td><td>177416</td></tr>\n",
       "<tr><td>N Strips</td><td>0</td></tr>\n",
       "<tr><td>X Bounds</td><td>-2.159e+00, 4.226e+00</td></tr>\n",
       "<tr><td>Y Bounds</td><td>-1.616e+00, 1.617e+00</td></tr>\n",
       "<tr><td>Z Bounds</td><td>5.000e-01, 5.000e-01</td></tr>\n",
       "<tr><td>N Arrays</td><td>8</td></tr>\n",
       "</table>\n",
       "\n",
       "</td><td>\n",
       "<table style='width: 100%;'>\n",
       "<tr><th>Name</th><th>Field</th><th>Type</th><th>N Comp</th><th>Min</th><th>Max</th></tr>\n",
       "<tr><td>nut</td><td>Points</td><td>float32</td><td>1</td><td>0.000e+00</td><td>5.269e-03</td></tr>\n",
       "<tr><td>p</td><td>Points</td><td>float32</td><td>1</td><td>-6.429e+02</td><td>4.899e+02</td></tr>\n",
       "<tr><td>U</td><td>Points</td><td>float32</td><td>3</td><td>-3.529e+01</td><td>4.402e+01</td></tr>\n",
       "<tr><td><b>implicit_distance</b></td><td>Points</td><td>float64</td><td>1</td><td>-3.543e+00</td><td>-0.000e+00</td></tr>\n",
       "<tr><td>nut</td><td>Cells</td><td>float32</td><td>1</td><td>5.750e-18</td><td>5.271e-03</td></tr>\n",
       "<tr><td>p</td><td>Cells</td><td>float32</td><td>1</td><td>-6.431e+02</td><td>4.900e+02</td></tr>\n",
       "<tr><td>U</td><td>Cells</td><td>float32</td><td>3</td><td>-3.529e+01</td><td>4.403e+01</td></tr>\n",
       "<tr><td>TimeValue</td><td>Fields</td><td>float32</td><td>1</td><td>2.000e+04</td><td>2.000e+04</td></tr>\n",
       "</table>\n",
       "\n",
       "</td></tr> </table>"
      ],
      "text/plain": [
       "PolyData (0x7f786ad8bfa0)\n",
       "  N Cells:    176178\n",
       "  N Points:   177416\n",
       "  N Strips:   0\n",
       "  X Bounds:   -2.159e+00, 4.226e+00\n",
       "  Y Bounds:   -1.616e+00, 1.617e+00\n",
       "  Z Bounds:   5.000e-01, 5.000e-01\n",
       "  N Arrays:   8"
      ]
     },
     "execution_count": 9,
     "metadata": {},
     "output_type": "execute_result"
    }
   ],
   "source": [
    "# only keep necessary fields\n",
    "INTERNAL_FIELDS = [\"p\", \"U\", \"nut\", \"implicit_distance\"]\n",
    "\n",
    "internal = select_fields(internal, INTERNAL_FIELDS)\n",
    "internal"
   ]
  },
  {
   "cell_type": "code",
   "execution_count": 11,
   "id": "ef02b1ec",
   "metadata": {},
   "outputs": [],
   "source": [
    "pv.save_meshio(\"internal.vtu\", internal)"
   ]
  },
  {
   "cell_type": "code",
   "execution_count": 12,
   "id": "8352882e",
   "metadata": {},
   "outputs": [
    {
     "data": {
      "text/html": [
       "<table style='width: 100%;'><tr><th>Header</th><th>Data Arrays</th></tr><tr><td>\n",
       "<table style='width: 100%;'>\n",
       "<tr><th>PolyData</th><th>Information</th></tr>\n",
       "<tr><td>N Cells</td><td>176178</td></tr>\n",
       "<tr><td>N Points</td><td>177416</td></tr>\n",
       "<tr><td>N Strips</td><td>0</td></tr>\n",
       "<tr><td>X Bounds</td><td>-2.159e+00, 4.226e+00</td></tr>\n",
       "<tr><td>Y Bounds</td><td>-1.616e+00, 1.617e+00</td></tr>\n",
       "<tr><td>Z Bounds</td><td>5.000e-01, 5.000e-01</td></tr>\n",
       "<tr><td>N Arrays</td><td>8</td></tr>\n",
       "</table>\n",
       "\n",
       "</td><td>\n",
       "<table style='width: 100%;'>\n",
       "<tr><th>Name</th><th>Field</th><th>Type</th><th>N Comp</th><th>Min</th><th>Max</th></tr>\n",
       "<tr><td>nut</td><td>Points</td><td>float32</td><td>1</td><td>0.000e+00</td><td>5.269e-03</td></tr>\n",
       "<tr><td>p</td><td>Points</td><td>float32</td><td>1</td><td>-6.429e+02</td><td>4.899e+02</td></tr>\n",
       "<tr><td>U</td><td>Points</td><td>float32</td><td>3</td><td>-3.529e+01</td><td>4.402e+01</td></tr>\n",
       "<tr><td><b>implicit_distance</b></td><td>Points</td><td>float64</td><td>1</td><td>-3.543e+00</td><td>-0.000e+00</td></tr>\n",
       "<tr><td>nut</td><td>Cells</td><td>float32</td><td>1</td><td>5.750e-18</td><td>5.271e-03</td></tr>\n",
       "<tr><td>p</td><td>Cells</td><td>float32</td><td>1</td><td>-6.431e+02</td><td>4.900e+02</td></tr>\n",
       "<tr><td>U</td><td>Cells</td><td>float32</td><td>3</td><td>-3.529e+01</td><td>4.403e+01</td></tr>\n",
       "<tr><td>TimeValue</td><td>Fields</td><td>float32</td><td>1</td><td>2.000e+04</td><td>2.000e+04</td></tr>\n",
       "</table>\n",
       "\n",
       "</td></tr> </table>"
      ],
      "text/plain": [
       "PolyData (0x7f786ad8bfa0)\n",
       "  N Cells:    176178\n",
       "  N Points:   177416\n",
       "  N Strips:   0\n",
       "  X Bounds:   -2.159e+00, 4.226e+00\n",
       "  Y Bounds:   -1.616e+00, 1.617e+00\n",
       "  Z Bounds:   5.000e-01, 5.000e-01\n",
       "  N Arrays:   8"
      ]
     },
     "execution_count": 12,
     "metadata": {},
     "output_type": "execute_result"
    }
   ],
   "source": [
    "internal"
   ]
  },
  {
   "cell_type": "code",
   "execution_count": 14,
   "id": "9b9f8946",
   "metadata": {},
   "outputs": [
    {
     "data": {
      "text/html": [
       "<table style='width: 100%;'><tr><th>Header</th><th>Data Arrays</th></tr><tr><td>\n",
       "<table style='width: 100%;'>\n",
       "<tr><th>UnstructuredGrid</th><th>Information</th></tr>\n",
       "<tr><td>N Cells</td><td>176178</td></tr>\n",
       "<tr><td>N Points</td><td>177416</td></tr>\n",
       "<tr><td>X Bounds</td><td>-2.159e+00, 4.226e+00</td></tr>\n",
       "<tr><td>Y Bounds</td><td>-1.616e+00, 1.617e+00</td></tr>\n",
       "<tr><td>Z Bounds</td><td>5.000e-01, 5.000e-01</td></tr>\n",
       "<tr><td>N Arrays</td><td>7</td></tr>\n",
       "</table>\n",
       "\n",
       "</td><td>\n",
       "<table style='width: 100%;'>\n",
       "<tr><th>Name</th><th>Field</th><th>Type</th><th>N Comp</th><th>Min</th><th>Max</th></tr>\n",
       "<tr><td>U</td><td>Points</td><td>float32</td><td>3</td><td>-3.529e+01</td><td>4.402e+01</td></tr>\n",
       "<tr><td>implicit_distance</td><td>Points</td><td>float64</td><td>1</td><td>-3.543e+00</td><td>-0.000e+00</td></tr>\n",
       "<tr><td>nut</td><td>Points</td><td>float32</td><td>1</td><td>0.000e+00</td><td>5.269e-03</td></tr>\n",
       "<tr><td>p</td><td>Points</td><td>float32</td><td>1</td><td>-6.429e+02</td><td>4.899e+02</td></tr>\n",
       "<tr><td>U</td><td>Cells</td><td>float32</td><td>3</td><td>-3.529e+01</td><td>4.403e+01</td></tr>\n",
       "<tr><td>nut</td><td>Cells</td><td>float32</td><td>1</td><td>5.750e-18</td><td>5.271e-03</td></tr>\n",
       "<tr><td>p</td><td>Cells</td><td>float32</td><td>1</td><td>-6.431e+02</td><td>4.900e+02</td></tr>\n",
       "</table>\n",
       "\n",
       "</td></tr> </table>"
      ],
      "text/plain": [
       "UnstructuredGrid (0x7f785d652fe0)\n",
       "  N Cells:    176178\n",
       "  N Points:   177416\n",
       "  X Bounds:   -2.159e+00, 4.226e+00\n",
       "  Y Bounds:   -1.616e+00, 1.617e+00\n",
       "  Z Bounds:   5.000e-01, 5.000e-01\n",
       "  N Arrays:   7"
      ]
     },
     "execution_count": 14,
     "metadata": {},
     "output_type": "execute_result"
    }
   ],
   "source": [
    "internal_new = pv.read(\"internal.vtu\")\n",
    "internal_new"
   ]
  },
  {
   "cell_type": "code",
   "execution_count": 111,
   "id": "4caaf572",
   "metadata": {},
   "outputs": [
    {
     "data": {
      "text/html": [
       "<table style='width: 100%;'><tr><th>Header</th><th>Data Arrays</th></tr><tr><td>\n",
       "<table style='width: 100%;'>\n",
       "<tr><th>PolyData</th><th>Information</th></tr>\n",
       "<tr><td>N Cells</td><td>994</td></tr>\n",
       "<tr><td>N Points</td><td>1988</td></tr>\n",
       "<tr><td>N Strips</td><td>0</td></tr>\n",
       "<tr><td>X Bounds</td><td>-7.739e-06, 1.000e+00</td></tr>\n",
       "<tr><td>Y Bounds</td><td>-6.562e-02, 7.800e-02</td></tr>\n",
       "<tr><td>Z Bounds</td><td>0.000e+00, 1.000e+00</td></tr>\n",
       "<tr><td>N Arrays</td><td>11</td></tr>\n",
       "</table>\n",
       "\n",
       "</td><td>\n",
       "<table style='width: 100%;'>\n",
       "<tr><th>Name</th><th>Field</th><th>Type</th><th>N Comp</th><th>Min</th><th>Max</th></tr>\n",
       "<tr><td>nut</td><td>Points</td><td>float32</td><td>1</td><td>0.000e+00</td><td>0.000e+00</td></tr>\n",
       "<tr><td>p</td><td>Points</td><td>float32</td><td>1</td><td>-6.429e+02</td><td>4.899e+02</td></tr>\n",
       "<tr><td>U</td><td>Points</td><td>float32</td><td>3</td><td>0.000e+00</td><td>0.000e+00</td></tr>\n",
       "<tr><td>wallShearStress</td><td>Points</td><td>float32</td><td>3</td><td>-4.811e+00</td><td>6.244e+00</td></tr>\n",
       "<tr><td>Normals</td><td>Points</td><td>float32</td><td>3</td><td>-1.000e+00</td><td>1.000e+00</td></tr>\n",
       "<tr><td>nut</td><td>Cells</td><td>float32</td><td>1</td><td>0.000e+00</td><td>0.000e+00</td></tr>\n",
       "<tr><td>p</td><td>Cells</td><td>float32</td><td>1</td><td>-6.431e+02</td><td>4.900e+02</td></tr>\n",
       "<tr><td>U</td><td>Cells</td><td>float32</td><td>3</td><td>0.000e+00</td><td>0.000e+00</td></tr>\n",
       "<tr><td>wallShearStress</td><td>Cells</td><td>float32</td><td>3</td><td>-4.812e+00</td><td>6.244e+00</td></tr>\n",
       "<tr><td>Normals</td><td>Cells</td><td>float32</td><td>3</td><td>-1.000e+00</td><td>1.000e+00</td></tr>\n",
       "<tr><td>TimeValue</td><td>Fields</td><td>float32</td><td>1</td><td>2.000e+04</td><td>2.000e+04</td></tr>\n",
       "</table>\n",
       "\n",
       "</td></tr> </table>"
      ],
      "text/plain": [
       "PolyData (0x7fbcd76e8d60)\n",
       "  N Cells:    994\n",
       "  N Points:   1988\n",
       "  N Strips:   0\n",
       "  X Bounds:   -7.739e-06, 1.000e+00\n",
       "  Y Bounds:   -6.562e-02, 7.800e-02\n",
       "  Z Bounds:   0.000e+00, 1.000e+00\n",
       "  N Arrays:   11"
      ]
     },
     "execution_count": 111,
     "metadata": {},
     "output_type": "execute_result"
    }
   ],
   "source": [
    "aerofoil = aerofoil.compute_normals(point_normals=True, cell_normals=True, flip_normals=False)  # normals\n",
    "aerofoil"
   ]
  },
  {
   "cell_type": "code",
   "execution_count": 112,
   "id": "8c1941de",
   "metadata": {},
   "outputs": [
    {
     "name": "stderr",
     "output_type": "stream",
     "text": [
      "Slicing: 100%|██████████[00:00<00:00]\n"
     ]
    },
    {
     "data": {
      "text/html": [
       "<table style='width: 100%;'><tr><th>Header</th><th>Data Arrays</th></tr><tr><td>\n",
       "<table style='width: 100%;'>\n",
       "<tr><th>PolyData</th><th>Information</th></tr>\n",
       "<tr><td>N Cells</td><td>994</td></tr>\n",
       "<tr><td>N Points</td><td>994</td></tr>\n",
       "<tr><td>N Strips</td><td>0</td></tr>\n",
       "<tr><td>X Bounds</td><td>-7.739e-06, 1.000e+00</td></tr>\n",
       "<tr><td>Y Bounds</td><td>-6.562e-02, 7.800e-02</td></tr>\n",
       "<tr><td>Z Bounds</td><td>5.000e-01, 5.000e-01</td></tr>\n",
       "<tr><td>N Arrays</td><td>11</td></tr>\n",
       "</table>\n",
       "\n",
       "</td><td>\n",
       "<table style='width: 100%;'>\n",
       "<tr><th>Name</th><th>Field</th><th>Type</th><th>N Comp</th><th>Min</th><th>Max</th></tr>\n",
       "<tr><td>nut</td><td>Points</td><td>float32</td><td>1</td><td>0.000e+00</td><td>0.000e+00</td></tr>\n",
       "<tr><td>p</td><td>Points</td><td>float32</td><td>1</td><td>-6.429e+02</td><td>4.899e+02</td></tr>\n",
       "<tr><td>U</td><td>Points</td><td>float32</td><td>3</td><td>0.000e+00</td><td>0.000e+00</td></tr>\n",
       "<tr><td>wallShearStress</td><td>Points</td><td>float32</td><td>3</td><td>-4.811e+00</td><td>6.244e+00</td></tr>\n",
       "<tr><td>Normals</td><td>Points</td><td>float32</td><td>3</td><td>-1.000e+00</td><td>1.000e+00</td></tr>\n",
       "<tr><td>nut</td><td>Cells</td><td>float32</td><td>1</td><td>0.000e+00</td><td>0.000e+00</td></tr>\n",
       "<tr><td>p</td><td>Cells</td><td>float32</td><td>1</td><td>-6.431e+02</td><td>4.900e+02</td></tr>\n",
       "<tr><td>U</td><td>Cells</td><td>float32</td><td>3</td><td>0.000e+00</td><td>0.000e+00</td></tr>\n",
       "<tr><td>wallShearStress</td><td>Cells</td><td>float32</td><td>3</td><td>-4.812e+00</td><td>6.244e+00</td></tr>\n",
       "<tr><td>Normals</td><td>Cells</td><td>float32</td><td>3</td><td>-1.000e+00</td><td>1.000e+00</td></tr>\n",
       "<tr><td>TimeValue</td><td>Fields</td><td>float32</td><td>1</td><td>2.000e+04</td><td>2.000e+04</td></tr>\n",
       "</table>\n",
       "\n",
       "</td></tr> </table>"
      ],
      "text/plain": [
       "PolyData (0x7fbcd76e9840)\n",
       "  N Cells:    994\n",
       "  N Points:   994\n",
       "  N Strips:   0\n",
       "  X Bounds:   -7.739e-06, 1.000e+00\n",
       "  Y Bounds:   -6.562e-02, 7.800e-02\n",
       "  Z Bounds:   5.000e-01, 5.000e-01\n",
       "  N Arrays:   11"
      ]
     },
     "execution_count": 112,
     "metadata": {},
     "output_type": "execute_result"
    }
   ],
   "source": [
    "aerofoil = aerofoil.slice(normal=SLICE_NORMAL,\n",
    "                      origin=SLICE_ORIGIN,\n",
    "                      generate_triangles=False,\n",
    "                      progress_bar=True)\n",
    "aerofoil"
   ]
  },
  {
   "cell_type": "code",
   "execution_count": 113,
   "id": "2c81a5b8",
   "metadata": {},
   "outputs": [
    {
     "data": {
      "text/html": [
       "<table style='width: 100%;'><tr><th>Header</th><th>Data Arrays</th></tr><tr><td>\n",
       "<table style='width: 100%;'>\n",
       "<tr><th>PolyData</th><th>Information</th></tr>\n",
       "<tr><td>N Cells</td><td>994</td></tr>\n",
       "<tr><td>N Points</td><td>994</td></tr>\n",
       "<tr><td>N Strips</td><td>0</td></tr>\n",
       "<tr><td>X Bounds</td><td>-7.739e-06, 1.000e+00</td></tr>\n",
       "<tr><td>Y Bounds</td><td>-6.562e-02, 7.800e-02</td></tr>\n",
       "<tr><td>Z Bounds</td><td>5.000e-01, 5.000e-01</td></tr>\n",
       "<tr><td>N Arrays</td><td>9</td></tr>\n",
       "</table>\n",
       "\n",
       "</td><td>\n",
       "<table style='width: 100%;'>\n",
       "<tr><th>Name</th><th>Field</th><th>Type</th><th>N Comp</th><th>Min</th><th>Max</th></tr>\n",
       "<tr><td>nut</td><td>Points</td><td>float32</td><td>1</td><td>0.000e+00</td><td>0.000e+00</td></tr>\n",
       "<tr><td>p</td><td>Points</td><td>float32</td><td>1</td><td>-6.429e+02</td><td>4.899e+02</td></tr>\n",
       "<tr><td>U</td><td>Points</td><td>float32</td><td>3</td><td>0.000e+00</td><td>0.000e+00</td></tr>\n",
       "<tr><td>Normals</td><td>Points</td><td>float32</td><td>3</td><td>-1.000e+00</td><td>1.000e+00</td></tr>\n",
       "<tr><td>nut</td><td>Cells</td><td>float32</td><td>1</td><td>0.000e+00</td><td>0.000e+00</td></tr>\n",
       "<tr><td>p</td><td>Cells</td><td>float32</td><td>1</td><td>-6.431e+02</td><td>4.900e+02</td></tr>\n",
       "<tr><td>U</td><td>Cells</td><td>float32</td><td>3</td><td>0.000e+00</td><td>0.000e+00</td></tr>\n",
       "<tr><td>Normals</td><td>Cells</td><td>float32</td><td>3</td><td>-1.000e+00</td><td>1.000e+00</td></tr>\n",
       "<tr><td>TimeValue</td><td>Fields</td><td>float32</td><td>1</td><td>2.000e+04</td><td>2.000e+04</td></tr>\n",
       "</table>\n",
       "\n",
       "</td></tr> </table>"
      ],
      "text/plain": [
       "PolyData (0x7fbcdd062680)\n",
       "  N Cells:    994\n",
       "  N Points:   994\n",
       "  N Strips:   0\n",
       "  X Bounds:   -7.739e-06, 1.000e+00\n",
       "  Y Bounds:   -6.562e-02, 7.800e-02\n",
       "  Z Bounds:   5.000e-01, 5.000e-01\n",
       "  N Arrays:   9"
      ]
     },
     "execution_count": 113,
     "metadata": {},
     "output_type": "execute_result"
    }
   ],
   "source": [
    "# only keep necessary fields\n",
    "AERO_FIELDS = [\"p\", \"U\", \"nut\", \"Normals\"]   # “Normals” is what PyVista calls the computed normals\n",
    "\n",
    "aerofoil = select_fields(aerofoil, AERO_FIELDS)\n",
    "aerofoil"
   ]
  },
  {
   "cell_type": "code",
   "execution_count": 15,
   "id": "40ac6710",
   "metadata": {},
   "outputs": [],
   "source": [
    "aerofoil.save(\"aerofoil.vtp\")"
   ]
  },
  {
   "cell_type": "code",
   "execution_count": 16,
   "id": "ceabd1d2",
   "metadata": {},
   "outputs": [
    {
     "data": {
      "text/html": [
       "<table style='width: 100%;'><tr><th>Header</th><th>Data Arrays</th></tr><tr><td>\n",
       "<table style='width: 100%;'>\n",
       "<tr><th>PolyData</th><th>Information</th></tr>\n",
       "<tr><td>N Cells</td><td>994</td></tr>\n",
       "<tr><td>N Points</td><td>1988</td></tr>\n",
       "<tr><td>N Strips</td><td>0</td></tr>\n",
       "<tr><td>X Bounds</td><td>-7.739e-06, 1.000e+00</td></tr>\n",
       "<tr><td>Y Bounds</td><td>-6.562e-02, 7.800e-02</td></tr>\n",
       "<tr><td>Z Bounds</td><td>0.000e+00, 1.000e+00</td></tr>\n",
       "<tr><td>N Arrays</td><td>9</td></tr>\n",
       "</table>\n",
       "\n",
       "</td><td>\n",
       "<table style='width: 100%;'>\n",
       "<tr><th>Name</th><th>Field</th><th>Type</th><th>N Comp</th><th>Min</th><th>Max</th></tr>\n",
       "<tr><td>nut</td><td>Points</td><td>float32</td><td>1</td><td>0.000e+00</td><td>0.000e+00</td></tr>\n",
       "<tr><td>p</td><td>Points</td><td>float32</td><td>1</td><td>-6.429e+02</td><td>4.899e+02</td></tr>\n",
       "<tr><td>U</td><td>Points</td><td>float32</td><td>3</td><td>0.000e+00</td><td>0.000e+00</td></tr>\n",
       "<tr><td>wallShearStress</td><td>Points</td><td>float32</td><td>3</td><td>-4.811e+00</td><td>6.244e+00</td></tr>\n",
       "<tr><td>nut</td><td>Cells</td><td>float32</td><td>1</td><td>0.000e+00</td><td>0.000e+00</td></tr>\n",
       "<tr><td>p</td><td>Cells</td><td>float32</td><td>1</td><td>-6.431e+02</td><td>4.900e+02</td></tr>\n",
       "<tr><td>U</td><td>Cells</td><td>float32</td><td>3</td><td>0.000e+00</td><td>0.000e+00</td></tr>\n",
       "<tr><td>wallShearStress</td><td>Cells</td><td>float32</td><td>3</td><td>-4.812e+00</td><td>6.244e+00</td></tr>\n",
       "<tr><td>TimeValue</td><td>Fields</td><td>float32</td><td>1</td><td>2.000e+04</td><td>2.000e+04</td></tr>\n",
       "</table>\n",
       "\n",
       "</td></tr> </table>"
      ],
      "text/plain": [
       "PolyData (0x7f786ac180a0)\n",
       "  N Cells:    994\n",
       "  N Points:   1988\n",
       "  N Strips:   0\n",
       "  X Bounds:   -7.739e-06, 1.000e+00\n",
       "  Y Bounds:   -6.562e-02, 7.800e-02\n",
       "  Z Bounds:   0.000e+00, 1.000e+00\n",
       "  N Arrays:   9"
      ]
     },
     "execution_count": 16,
     "metadata": {},
     "output_type": "execute_result"
    }
   ],
   "source": [
    "aerofoil"
   ]
  },
  {
   "cell_type": "code",
   "execution_count": 114,
   "id": "38c05287",
   "metadata": {},
   "outputs": [
    {
     "data": {
      "text/html": [
       "<table style='width: 100%;'><tr><th>Header</th><th>Data Arrays</th></tr><tr><td>\n",
       "<table style='width: 100%;'>\n",
       "<tr><th>PolyData</th><th>Information</th></tr>\n",
       "<tr><td>N Cells</td><td>994</td></tr>\n",
       "<tr><td>N Points</td><td>994</td></tr>\n",
       "<tr><td>N Strips</td><td>0</td></tr>\n",
       "<tr><td>X Bounds</td><td>-7.739e-06, 1.000e+00</td></tr>\n",
       "<tr><td>Y Bounds</td><td>-6.562e-02, 7.800e-02</td></tr>\n",
       "<tr><td>Z Bounds</td><td>5.000e-01, 5.000e-01</td></tr>\n",
       "<tr><td>N Arrays</td><td>10</td></tr>\n",
       "</table>\n",
       "\n",
       "</td><td>\n",
       "<table style='width: 100%;'>\n",
       "<tr><th>Name</th><th>Field</th><th>Type</th><th>N Comp</th><th>Min</th><th>Max</th></tr>\n",
       "<tr><td>nut</td><td>Points</td><td>float32</td><td>1</td><td>0.000e+00</td><td>0.000e+00</td></tr>\n",
       "<tr><td>p</td><td>Points</td><td>float32</td><td>1</td><td>-6.429e+02</td><td>4.899e+02</td></tr>\n",
       "<tr><td>U</td><td>Points</td><td>float32</td><td>3</td><td>0.000e+00</td><td>0.000e+00</td></tr>\n",
       "<tr><td>Normals</td><td>Points</td><td>float32</td><td>3</td><td>-1.000e+00</td><td>1.000e+00</td></tr>\n",
       "<tr><td>nut</td><td>Cells</td><td>float32</td><td>1</td><td>0.000e+00</td><td>0.000e+00</td></tr>\n",
       "<tr><td>p</td><td>Cells</td><td>float32</td><td>1</td><td>-6.431e+02</td><td>4.900e+02</td></tr>\n",
       "<tr><td>U</td><td>Cells</td><td>float32</td><td>3</td><td>0.000e+00</td><td>0.000e+00</td></tr>\n",
       "<tr><td>Normals</td><td>Cells</td><td>float32</td><td>3</td><td>-1.000e+00</td><td>1.000e+00</td></tr>\n",
       "<tr><td>Length</td><td>Cells</td><td>float64</td><td>1</td><td>5.626e-06</td><td>8.525e-03</td></tr>\n",
       "<tr><td>TimeValue</td><td>Fields</td><td>float32</td><td>1</td><td>2.000e+04</td><td>2.000e+04</td></tr>\n",
       "</table>\n",
       "\n",
       "</td></tr> </table>"
      ],
      "text/plain": [
       "PolyData (0x7fbcd76eaf20)\n",
       "  N Cells:    994\n",
       "  N Points:   994\n",
       "  N Strips:   0\n",
       "  X Bounds:   -7.739e-06, 1.000e+00\n",
       "  Y Bounds:   -6.562e-02, 7.800e-02\n",
       "  Z Bounds:   5.000e-01, 5.000e-01\n",
       "  N Arrays:   10"
      ]
     },
     "execution_count": 114,
     "metadata": {},
     "output_type": "execute_result"
    }
   ],
   "source": [
    "aerofoil = aerofoil.compute_cell_sizes(area=False, volume=False)\n",
    "aerofoil"
   ]
  },
  {
   "cell_type": "code",
   "execution_count": 115,
   "id": "42874874",
   "metadata": {},
   "outputs": [
    {
     "data": {
      "text/html": [
       "<table style='width: 100%;'><tr><th>Header</th><th>Data Arrays</th></tr><tr><td>\n",
       "<table style='width: 100%;'>\n",
       "<tr><th>PolyData</th><th>Information</th></tr>\n",
       "<tr><td>N Cells</td><td>1706</td></tr>\n",
       "<tr><td>N Points</td><td>3412</td></tr>\n",
       "<tr><td>N Strips</td><td>0</td></tr>\n",
       "<tr><td>X Bounds</td><td>-2.000e+02, 2.000e+02</td></tr>\n",
       "<tr><td>Y Bounds</td><td>-2.000e+02, 2.000e+02</td></tr>\n",
       "<tr><td>Z Bounds</td><td>0.000e+00, 1.000e+00</td></tr>\n",
       "<tr><td>N Arrays</td><td>9</td></tr>\n",
       "</table>\n",
       "\n",
       "</td><td>\n",
       "<table style='width: 100%;'>\n",
       "<tr><th>Name</th><th>Field</th><th>Type</th><th>N Comp</th><th>Min</th><th>Max</th></tr>\n",
       "<tr><td>nut</td><td>Points</td><td>float32</td><td>1</td><td>3.008e-09</td><td>4.270e-03</td></tr>\n",
       "<tr><td>p</td><td>Points</td><td>float32</td><td>1</td><td>-1.258e-01</td><td>1.565e-01</td></tr>\n",
       "<tr><td>U</td><td>Points</td><td>float32</td><td>3</td><td>-2.267e+00</td><td>3.121e+01</td></tr>\n",
       "<tr><td>wallShearStress</td><td>Points</td><td>float32</td><td>3</td><td>0.000e+00</td><td>0.000e+00</td></tr>\n",
       "<tr><td>nut</td><td>Cells</td><td>float32</td><td>1</td><td>3.008e-09</td><td>4.271e-03</td></tr>\n",
       "<tr><td>p</td><td>Cells</td><td>float32</td><td>1</td><td>-1.258e-01</td><td>1.565e-01</td></tr>\n",
       "<tr><td>U</td><td>Cells</td><td>float32</td><td>3</td><td>-2.267e+00</td><td>3.121e+01</td></tr>\n",
       "<tr><td>wallShearStress</td><td>Cells</td><td>float32</td><td>3</td><td>0.000e+00</td><td>0.000e+00</td></tr>\n",
       "<tr><td>TimeValue</td><td>Fields</td><td>float32</td><td>1</td><td>2.000e+04</td><td>2.000e+04</td></tr>\n",
       "</table>\n",
       "\n",
       "</td></tr> </table>"
      ],
      "text/plain": [
       "PolyData (0x7fbcd779dde0)\n",
       "  N Cells:    1706\n",
       "  N Points:   3412\n",
       "  N Strips:   0\n",
       "  X Bounds:   -2.000e+02, 2.000e+02\n",
       "  Y Bounds:   -2.000e+02, 2.000e+02\n",
       "  Z Bounds:   0.000e+00, 1.000e+00\n",
       "  N Arrays:   9"
      ]
     },
     "execution_count": 115,
     "metadata": {},
     "output_type": "execute_result"
    }
   ],
   "source": [
    "freestream = pv.read(freestream_path)\n",
    "freestream"
   ]
  },
  {
   "cell_type": "code",
   "execution_count": 116,
   "id": "b52a3b17",
   "metadata": {},
   "outputs": [
    {
     "name": "stderr",
     "output_type": "stream",
     "text": [
      "Slicing: 100%|██████████[00:00<00:00]\n"
     ]
    },
    {
     "data": {
      "text/html": [
       "<table style='width: 100%;'><tr><th>Header</th><th>Data Arrays</th></tr><tr><td>\n",
       "<table style='width: 100%;'>\n",
       "<tr><th>PolyData</th><th>Information</th></tr>\n",
       "<tr><td>N Cells</td><td>1706</td></tr>\n",
       "<tr><td>N Points</td><td>1706</td></tr>\n",
       "<tr><td>N Strips</td><td>0</td></tr>\n",
       "<tr><td>X Bounds</td><td>-2.000e+02, 2.000e+02</td></tr>\n",
       "<tr><td>Y Bounds</td><td>-2.000e+02, 2.000e+02</td></tr>\n",
       "<tr><td>Z Bounds</td><td>5.000e-01, 5.000e-01</td></tr>\n",
       "<tr><td>N Arrays</td><td>9</td></tr>\n",
       "</table>\n",
       "\n",
       "</td><td>\n",
       "<table style='width: 100%;'>\n",
       "<tr><th>Name</th><th>Field</th><th>Type</th><th>N Comp</th><th>Min</th><th>Max</th></tr>\n",
       "<tr><td>nut</td><td>Points</td><td>float32</td><td>1</td><td>3.008e-09</td><td>4.270e-03</td></tr>\n",
       "<tr><td>p</td><td>Points</td><td>float32</td><td>1</td><td>-1.258e-01</td><td>1.565e-01</td></tr>\n",
       "<tr><td>U</td><td>Points</td><td>float32</td><td>3</td><td>-2.267e+00</td><td>3.121e+01</td></tr>\n",
       "<tr><td>wallShearStress</td><td>Points</td><td>float32</td><td>3</td><td>0.000e+00</td><td>0.000e+00</td></tr>\n",
       "<tr><td>nut</td><td>Cells</td><td>float32</td><td>1</td><td>3.008e-09</td><td>4.271e-03</td></tr>\n",
       "<tr><td>p</td><td>Cells</td><td>float32</td><td>1</td><td>-1.258e-01</td><td>1.565e-01</td></tr>\n",
       "<tr><td>U</td><td>Cells</td><td>float32</td><td>3</td><td>-2.267e+00</td><td>3.121e+01</td></tr>\n",
       "<tr><td>wallShearStress</td><td>Cells</td><td>float32</td><td>3</td><td>0.000e+00</td><td>0.000e+00</td></tr>\n",
       "<tr><td>TimeValue</td><td>Fields</td><td>float32</td><td>1</td><td>2.000e+04</td><td>2.000e+04</td></tr>\n",
       "</table>\n",
       "\n",
       "</td></tr> </table>"
      ],
      "text/plain": [
       "PolyData (0x7fbcd779d9c0)\n",
       "  N Cells:    1706\n",
       "  N Points:   1706\n",
       "  N Strips:   0\n",
       "  X Bounds:   -2.000e+02, 2.000e+02\n",
       "  Y Bounds:   -2.000e+02, 2.000e+02\n",
       "  Z Bounds:   5.000e-01, 5.000e-01\n",
       "  N Arrays:   9"
      ]
     },
     "execution_count": 116,
     "metadata": {},
     "output_type": "execute_result"
    }
   ],
   "source": [
    "freestream = freestream.slice(normal=SLICE_NORMAL,\n",
    "                      origin=SLICE_ORIGIN,\n",
    "                      generate_triangles=False,\n",
    "                      progress_bar=True)  # slice to 2D\n",
    "freestream"
   ]
  },
  {
   "cell_type": "code",
   "execution_count": 117,
   "id": "e0cc4eb8",
   "metadata": {},
   "outputs": [
    {
     "data": {
      "text/html": [
       "<table style='width: 100%;'><tr><th>Header</th><th>Data Arrays</th></tr><tr><td>\n",
       "<table style='width: 100%;'>\n",
       "<tr><th>PolyData</th><th>Information</th></tr>\n",
       "<tr><td>N Cells</td><td>1706</td></tr>\n",
       "<tr><td>N Points</td><td>1706</td></tr>\n",
       "<tr><td>N Strips</td><td>0</td></tr>\n",
       "<tr><td>X Bounds</td><td>-2.000e+02, 2.000e+02</td></tr>\n",
       "<tr><td>Y Bounds</td><td>-2.000e+02, 2.000e+02</td></tr>\n",
       "<tr><td>Z Bounds</td><td>5.000e-01, 5.000e-01</td></tr>\n",
       "<tr><td>N Arrays</td><td>7</td></tr>\n",
       "</table>\n",
       "\n",
       "</td><td>\n",
       "<table style='width: 100%;'>\n",
       "<tr><th>Name</th><th>Field</th><th>Type</th><th>N Comp</th><th>Min</th><th>Max</th></tr>\n",
       "<tr><td>nut</td><td>Points</td><td>float32</td><td>1</td><td>3.008e-09</td><td>4.270e-03</td></tr>\n",
       "<tr><td>p</td><td>Points</td><td>float32</td><td>1</td><td>-1.258e-01</td><td>1.565e-01</td></tr>\n",
       "<tr><td>U</td><td>Points</td><td>float32</td><td>3</td><td>-2.267e+00</td><td>3.121e+01</td></tr>\n",
       "<tr><td>nut</td><td>Cells</td><td>float32</td><td>1</td><td>3.008e-09</td><td>4.271e-03</td></tr>\n",
       "<tr><td>p</td><td>Cells</td><td>float32</td><td>1</td><td>-1.258e-01</td><td>1.565e-01</td></tr>\n",
       "<tr><td>U</td><td>Cells</td><td>float32</td><td>3</td><td>-2.267e+00</td><td>3.121e+01</td></tr>\n",
       "<tr><td>TimeValue</td><td>Fields</td><td>float32</td><td>1</td><td>2.000e+04</td><td>2.000e+04</td></tr>\n",
       "</table>\n",
       "\n",
       "</td></tr> </table>"
      ],
      "text/plain": [
       "PolyData (0x7fbcd76eb040)\n",
       "  N Cells:    1706\n",
       "  N Points:   1706\n",
       "  N Strips:   0\n",
       "  X Bounds:   -2.000e+02, 2.000e+02\n",
       "  Y Bounds:   -2.000e+02, 2.000e+02\n",
       "  Z Bounds:   5.000e-01, 5.000e-01\n",
       "  N Arrays:   7"
      ]
     },
     "execution_count": 117,
     "metadata": {},
     "output_type": "execute_result"
    }
   ],
   "source": [
    "freestream = select_fields(freestream, FREE_FIELDS)  # only keep necessary fields\n",
    "freestream"
   ]
  },
  {
   "cell_type": "code",
   "execution_count": null,
   "id": "dbf61acf",
   "metadata": {},
   "outputs": [
    {
     "data": {
      "text/plain": [
       "(177416, 3)"
      ]
     },
     "execution_count": 35,
     "metadata": {},
     "output_type": "execute_result"
    }
   ],
   "source": [
    "# params\n",
    "CLIP_BOUNDS = (-2, 4, -1.5, 1.5, 0, 1)\n",
    "SLICE_NORMAL = (0, 0, 1)\n",
    "SLICE_ORIGIN = (0, 0, 0.5)\n",
    "\n",
    "INTERNAL_FIELDS = [\"p\", \"U\", \"nut\", \"implicit_distance\"]\n",
    "AERO_FIELDS = [\"p\", \"U\", \"nut\", \"Normals\"]\n",
    "FREE_FIELDS = [\"p\", \"U\", \"nut\"]\n",
    "\n",
    "\n",
    "# load raw files\n",
    "internal = pv.read(internal_path)\n",
    "aerofoil = pv.read(aerofoil_path)\n",
    "freestream = pv.read(freestream_path)\n",
    "\n",
    "# internal preprocessing\n",
    "internal = internal.clip_box(bounds=CLIP_BOUNDS, crinkle=True, progress_bar=True, invert=False)  # clip box\n",
    "internal = internal.slice(normal=SLICE_NORMAL,\n",
    "                      origin=SLICE_ORIGIN,\n",
    "                      generate_triangles=False,\n",
    "                      progress_bar=True)  # slice to 2D\n",
    "internal = internal.compute_implicit_distance(aerofoil)  # compute sdf to airfoil\n",
    "internal = select_fields(internal, INTERNAL_FIELDS)  # only keep necessary fields\n",
    "\n",
    "# aerofoil preprocessing\n",
    "aerofoil = aerofoil.compute_normals(point_normals=True, cell_normals=True, flip_normals=False)  # normals\n",
    "aerofoil = aerofoil.slice(normal=SLICE_NORMAL,\n",
    "                      origin=SLICE_ORIGIN,\n",
    "                      generate_triangles=False,\n",
    "                      progress_bar=True)  # slice to 2D\n",
    "aerofoil = select_fields(aerofoil, AERO_FIELDS)  # only keep necessary fields\n",
    "aerofoil = aerofoil.compute_cell_sizes(area=False, volume=False)  # compute length (arc length)\n",
    "\n",
    "# freestream processing\n",
    "freestream = freestream.slice(normal=SLICE_NORMAL,\n",
    "                      origin=SLICE_ORIGIN,\n",
    "                      generate_triangles=False,\n",
    "                      progress_bar=True)  # slice to 2D\n",
    "freestream = select_fields(freestream, FREE_FIELDS)  # only keep necessary fields\n"
   ]
  },
  {
   "cell_type": "code",
   "execution_count": 5,
   "id": "2c96eaa0",
   "metadata": {},
   "outputs": [
    {
     "name": "stderr",
     "output_type": "stream",
     "text": [
      "Slicing: 100%|██████████[00:59<00:00]\n",
      "Clipping a Dataset by a Bounding Box: 100%|██████████[00:52<00:00]\n",
      "Slicing: 100%|██████████[00:00<00:00]\n",
      "Slicing: 100%|██████████[00:00<00:00]\n"
     ]
    }
   ],
   "source": [
    "internal = pv.read(internal_path)\n",
    "aerofoil = pv.read(aerofoil_path)\n",
    "freestream = pv.read(freestream_path)\n",
    "\n",
    "# internal preprocessing\n",
    "internal2D = internal.slice(normal=SLICE_NORMAL,\n",
    "                      origin=SLICE_ORIGIN,\n",
    "                      generate_triangles=False,\n",
    "                      progress_bar=True)\n",
    "internal_clipped = internal2D.clip_box(bounds=CLIP_BOUNDS, crinkle=True, progress_bar=True)  # clip box\n",
    "internal = internal_clipped.compute_implicit_distance(surface=aerofoil)  # distance function to aerofoil surface\n",
    "# internal = select_fields(internal, INTERNAL_FIELDS)\n",
    "# TODO: add normals = 0 for points not on the surface (or is this handled by the Simulation class?)\n",
    "pv.save_meshio(internal_saving_path, internal_clipped)\n",
    "\n",
    "# aerofoil preprocessing\n",
    "aerofoil = aerofoil.compute_normals(point_normals=True, cell_normals=False, flip_normals=False)  # normals\n",
    "aerofoil = aerofoil.slice(normal=SLICE_NORMAL,\n",
    "                      origin=SLICE_ORIGIN,\n",
    "                      generate_triangles=False,\n",
    "                      progress_bar=True)\n",
    "# aerofoil = select_fields(aerofoil, AERO_FIELDS)\n",
    "aerofoil.save(aerofoil_saving_path)\n",
    "\n",
    "# freestream preprocessing\n",
    "freestream = freestream.slice(normal=SLICE_NORMAL,\n",
    "                      origin=SLICE_ORIGIN,\n",
    "                      generate_triangles=False,\n",
    "                      progress_bar=True)\n",
    "# freestream = select_fields(freestream, FREE_FIELDS)\n",
    "freestream.save(freestream_saving_path)\n",
    "\n",
    "# TODO: add field of on surface or not (or is this handled by the Simulation class??)\n"
   ]
  },
  {
   "cell_type": "code",
   "execution_count": 118,
   "id": "c15c6b6e",
   "metadata": {},
   "outputs": [],
   "source": [
    "internal_new = pv.read(internal_saving_path)\n",
    "aerofoil_new = pv.read(aerofoil_saving_path)\n",
    "freestream_new = pv.read(freestream_saving_path)\n",
    "\n",
    "internal_old = pv.read(\"/system/user/publicdata/airfrans/Dataset/airFoil2D_SST_31.283_-4.156_0.919_6.98_14.32/airFoil2D_SST_31.283_-4.156_0.919_6.98_14.32_internal.vtu\")\n",
    "aerofoil_old = pv.read(\"/system/user/publicdata/airfrans/Dataset/airFoil2D_SST_31.283_-4.156_0.919_6.98_14.32/airFoil2D_SST_31.283_-4.156_0.919_6.98_14.32_aerofoil.vtp\")\n",
    "freestream_old = pv.read(\"/system/user/publicdata/airfrans/Dataset/airFoil2D_SST_31.283_-4.156_0.919_6.98_14.32/airFoil2D_SST_31.283_-4.156_0.919_6.98_14.32_freestream.vtp\")\n",
    " "
   ]
  },
  {
   "cell_type": "code",
   "execution_count": 119,
   "id": "c25d01ec",
   "metadata": {},
   "outputs": [
    {
     "data": {
      "text/html": [
       "<table style='width: 100%;'><tr><th>Header</th><th>Data Arrays</th></tr><tr><td>\n",
       "<table style='width: 100%;'>\n",
       "<tr><th>UnstructuredGrid</th><th>Information</th></tr>\n",
       "<tr><td>N Cells</td><td>102162</td></tr>\n",
       "<tr><td>N Points</td><td>103754</td></tr>\n",
       "<tr><td>X Bounds</td><td>-2.000e+02, 2.000e+02</td></tr>\n",
       "<tr><td>Y Bounds</td><td>-2.000e+02, 2.000e+02</td></tr>\n",
       "<tr><td>Z Bounds</td><td>5.000e-01, 5.000e-01</td></tr>\n",
       "<tr><td>N Arrays</td><td>11</td></tr>\n",
       "</table>\n",
       "\n",
       "</td><td>\n",
       "<table style='width: 100%;'>\n",
       "<tr><th>Name</th><th>Field</th><th>Type</th><th>N Comp</th><th>Min</th><th>Max</th></tr>\n",
       "<tr><td>nut</td><td>Points</td><td>float32</td><td>1</td><td>4.569e-12</td><td>4.908e-03</td></tr>\n",
       "<tr><td>p</td><td>Points</td><td>float32</td><td>1</td><td>-2.617e+01</td><td>1.258e+01</td></tr>\n",
       "<tr><td>U</td><td>Points</td><td>float32</td><td>3</td><td>-2.698e+00</td><td>3.203e+01</td></tr>\n",
       "<tr><td>wallShearStress</td><td>Points</td><td>float32</td><td>3</td><td>0.000e+00</td><td>0.000e+00</td></tr>\n",
       "<tr><td>vtkOriginalPointIds</td><td>Points</td><td>int64</td><td>1</td><td>0.000e+00</td><td>2.782e+05</td></tr>\n",
       "<tr><td>nut</td><td>Cells</td><td>float32</td><td>1</td><td>2.151e-16</td><td>4.898e-03</td></tr>\n",
       "<tr><td>p</td><td>Cells</td><td>float32</td><td>1</td><td>-2.492e+01</td><td>1.217e+01</td></tr>\n",
       "<tr><td>U</td><td>Cells</td><td>float32</td><td>3</td><td>-2.678e+00</td><td>3.199e+01</td></tr>\n",
       "<tr><td>wallShearStress</td><td>Cells</td><td>float32</td><td>3</td><td>0.000e+00</td><td>0.000e+00</td></tr>\n",
       "<tr><td>cell_ids</td><td>Cells</td><td>int64</td><td>1</td><td>0.000e+00</td><td>2.769e+05</td></tr>\n",
       "<tr><td>vtkOriginalCellIds</td><td>Cells</td><td>int64</td><td>1</td><td>0.000e+00</td><td>2.769e+05</td></tr>\n",
       "</table>\n",
       "\n",
       "</td></tr> </table>"
      ],
      "text/plain": [
       "UnstructuredGrid (0x7fbcd76ea3e0)\n",
       "  N Cells:    102162\n",
       "  N Points:   103754\n",
       "  X Bounds:   -2.000e+02, 2.000e+02\n",
       "  Y Bounds:   -2.000e+02, 2.000e+02\n",
       "  Z Bounds:   5.000e-01, 5.000e-01\n",
       "  N Arrays:   11"
      ]
     },
     "execution_count": 119,
     "metadata": {},
     "output_type": "execute_result"
    }
   ],
   "source": [
    "internal_new"
   ]
  },
  {
   "cell_type": "code",
   "execution_count": 120,
   "id": "28583d02",
   "metadata": {},
   "outputs": [
    {
     "data": {
      "text/html": [
       "<table style='width: 100%;'><tr><th>Header</th><th>Data Arrays</th></tr><tr><td>\n",
       "<table style='width: 100%;'>\n",
       "<tr><th>UnstructuredGrid</th><th>Information</th></tr>\n",
       "<tr><td>N Cells</td><td>176178</td></tr>\n",
       "<tr><td>N Points</td><td>177416</td></tr>\n",
       "<tr><td>X Bounds</td><td>-2.159e+00, 4.226e+00</td></tr>\n",
       "<tr><td>Y Bounds</td><td>-1.616e+00, 1.617e+00</td></tr>\n",
       "<tr><td>Z Bounds</td><td>5.000e-01, 5.000e-01</td></tr>\n",
       "<tr><td>N Arrays</td><td>11</td></tr>\n",
       "</table>\n",
       "\n",
       "</td><td>\n",
       "<table style='width: 100%;'>\n",
       "<tr><th>Name</th><th>Field</th><th>Type</th><th>N Comp</th><th>Min</th><th>Max</th></tr>\n",
       "<tr><td>nut</td><td>Points</td><td>float32</td><td>1</td><td>0.000e+00</td><td>5.276e-03</td></tr>\n",
       "<tr><td>p</td><td>Points</td><td>float32</td><td>1</td><td>-6.432e+02</td><td>4.899e+02</td></tr>\n",
       "<tr><td>U</td><td>Points</td><td>float32</td><td>3</td><td>-3.529e+01</td><td>4.402e+01</td></tr>\n",
       "<tr><td><b>implicit_distance</b></td><td>Points</td><td>float64</td><td>1</td><td>-3.543e+00</td><td>-0.000e+00</td></tr>\n",
       "<tr><td>vtkOriginalPointIds</td><td>Points</td><td>int64</td><td>1</td><td>1.140e+02</td><td>2.619e+05</td></tr>\n",
       "<tr><td>nut</td><td>Cells</td><td>float32</td><td>1</td><td>5.713e-18</td><td>5.277e-03</td></tr>\n",
       "<tr><td>p</td><td>Cells</td><td>float32</td><td>1</td><td>-6.434e+02</td><td>4.900e+02</td></tr>\n",
       "<tr><td>U</td><td>Cells</td><td>float32</td><td>3</td><td>-3.529e+01</td><td>4.402e+01</td></tr>\n",
       "<tr><td>cell_ids</td><td>Cells</td><td>int64</td><td>1</td><td>5.700e+01</td><td>2.605e+05</td></tr>\n",
       "<tr><td>vtkOriginalCellIds</td><td>Cells</td><td>int64</td><td>1</td><td>5.700e+01</td><td>2.605e+05</td></tr>\n",
       "<tr><td>TimeValue</td><td>Fields</td><td>float32</td><td>1</td><td>2.000e+04</td><td>2.000e+04</td></tr>\n",
       "</table>\n",
       "\n",
       "</td></tr> </table>"
      ],
      "text/plain": [
       "UnstructuredGrid (0x7fbcd76e9de0)\n",
       "  N Cells:    176178\n",
       "  N Points:   177416\n",
       "  X Bounds:   -2.159e+00, 4.226e+00\n",
       "  Y Bounds:   -1.616e+00, 1.617e+00\n",
       "  Z Bounds:   5.000e-01, 5.000e-01\n",
       "  N Arrays:   11"
      ]
     },
     "execution_count": 120,
     "metadata": {},
     "output_type": "execute_result"
    }
   ],
   "source": [
    "internal_old"
   ]
  },
  {
   "cell_type": "code",
   "execution_count": 121,
   "id": "91b9b0bf",
   "metadata": {},
   "outputs": [
    {
     "data": {
      "text/html": [
       "<table style='width: 100%;'><tr><th>Header</th><th>Data Arrays</th></tr><tr><td>\n",
       "<table style='width: 100%;'>\n",
       "<tr><th>PolyData</th><th>Information</th></tr>\n",
       "<tr><td>N Cells</td><td>176178</td></tr>\n",
       "<tr><td>N Points</td><td>177416</td></tr>\n",
       "<tr><td>N Strips</td><td>0</td></tr>\n",
       "<tr><td>X Bounds</td><td>-2.159e+00, 4.226e+00</td></tr>\n",
       "<tr><td>Y Bounds</td><td>-1.616e+00, 1.617e+00</td></tr>\n",
       "<tr><td>Z Bounds</td><td>5.000e-01, 5.000e-01</td></tr>\n",
       "<tr><td>N Arrays</td><td>8</td></tr>\n",
       "</table>\n",
       "\n",
       "</td><td>\n",
       "<table style='width: 100%;'>\n",
       "<tr><th>Name</th><th>Field</th><th>Type</th><th>N Comp</th><th>Min</th><th>Max</th></tr>\n",
       "<tr><td>nut</td><td>Points</td><td>float32</td><td>1</td><td>0.000e+00</td><td>5.269e-03</td></tr>\n",
       "<tr><td>p</td><td>Points</td><td>float32</td><td>1</td><td>-6.429e+02</td><td>4.899e+02</td></tr>\n",
       "<tr><td>U</td><td>Points</td><td>float32</td><td>3</td><td>-3.529e+01</td><td>4.402e+01</td></tr>\n",
       "<tr><td><b>implicit_distance</b></td><td>Points</td><td>float64</td><td>1</td><td>-3.543e+00</td><td>-0.000e+00</td></tr>\n",
       "<tr><td>nut</td><td>Cells</td><td>float32</td><td>1</td><td>5.750e-18</td><td>5.271e-03</td></tr>\n",
       "<tr><td>p</td><td>Cells</td><td>float32</td><td>1</td><td>-6.431e+02</td><td>4.900e+02</td></tr>\n",
       "<tr><td>U</td><td>Cells</td><td>float32</td><td>3</td><td>-3.529e+01</td><td>4.403e+01</td></tr>\n",
       "<tr><td>TimeValue</td><td>Fields</td><td>float32</td><td>1</td><td>2.000e+04</td><td>2.000e+04</td></tr>\n",
       "</table>\n",
       "\n",
       "</td></tr> </table>"
      ],
      "text/plain": [
       "PolyData (0x7fbcd76eaec0)\n",
       "  N Cells:    176178\n",
       "  N Points:   177416\n",
       "  N Strips:   0\n",
       "  X Bounds:   -2.159e+00, 4.226e+00\n",
       "  Y Bounds:   -1.616e+00, 1.617e+00\n",
       "  Z Bounds:   5.000e-01, 5.000e-01\n",
       "  N Arrays:   8"
      ]
     },
     "execution_count": 121,
     "metadata": {},
     "output_type": "execute_result"
    }
   ],
   "source": [
    "internal"
   ]
  },
  {
   "cell_type": "code",
   "execution_count": 122,
   "id": "bb6b7a4b",
   "metadata": {},
   "outputs": [
    {
     "data": {
      "text/html": [
       "<table style='width: 100%;'><tr><th>Header</th><th>Data Arrays</th></tr><tr><td>\n",
       "<table style='width: 100%;'>\n",
       "<tr><th>PolyData</th><th>Information</th></tr>\n",
       "<tr><td>N Cells</td><td>994</td></tr>\n",
       "<tr><td>N Points</td><td>994</td></tr>\n",
       "<tr><td>N Strips</td><td>0</td></tr>\n",
       "<tr><td>X Bounds</td><td>-7.739e-06, 1.000e+00</td></tr>\n",
       "<tr><td>Y Bounds</td><td>-6.562e-02, 7.800e-02</td></tr>\n",
       "<tr><td>Z Bounds</td><td>5.000e-01, 5.000e-01</td></tr>\n",
       "<tr><td>N Arrays</td><td>10</td></tr>\n",
       "</table>\n",
       "\n",
       "</td><td>\n",
       "<table style='width: 100%;'>\n",
       "<tr><th>Name</th><th>Field</th><th>Type</th><th>N Comp</th><th>Min</th><th>Max</th></tr>\n",
       "<tr><td>nut</td><td>Points</td><td>float32</td><td>1</td><td>0.000e+00</td><td>0.000e+00</td></tr>\n",
       "<tr><td>p</td><td>Points</td><td>float32</td><td>1</td><td>-6.432e+02</td><td>4.899e+02</td></tr>\n",
       "<tr><td>U</td><td>Points</td><td>float32</td><td>3</td><td>0.000e+00</td><td>0.000e+00</td></tr>\n",
       "<tr><td>Normals</td><td>Points</td><td>float32</td><td>3</td><td>-1.000e+00</td><td>1.000e+00</td></tr>\n",
       "<tr><td>nut</td><td>Cells</td><td>float32</td><td>1</td><td>0.000e+00</td><td>0.000e+00</td></tr>\n",
       "<tr><td>p</td><td>Cells</td><td>float32</td><td>1</td><td>-6.434e+02</td><td>4.900e+02</td></tr>\n",
       "<tr><td>U</td><td>Cells</td><td>float32</td><td>3</td><td>0.000e+00</td><td>0.000e+00</td></tr>\n",
       "<tr><td>Normals</td><td>Cells</td><td>float32</td><td>3</td><td>-1.000e+00</td><td>1.000e+00</td></tr>\n",
       "<tr><td>Length</td><td>Cells</td><td>float64</td><td>1</td><td>5.626e-06</td><td>8.525e-03</td></tr>\n",
       "<tr><td>TimeValue</td><td>Fields</td><td>float32</td><td>1</td><td>2.000e+04</td><td>2.000e+04</td></tr>\n",
       "</table>\n",
       "\n",
       "</td></tr> </table>"
      ],
      "text/plain": [
       "PolyData (0x7fbcd779d480)\n",
       "  N Cells:    994\n",
       "  N Points:   994\n",
       "  N Strips:   0\n",
       "  X Bounds:   -7.739e-06, 1.000e+00\n",
       "  Y Bounds:   -6.562e-02, 7.800e-02\n",
       "  Z Bounds:   5.000e-01, 5.000e-01\n",
       "  N Arrays:   10"
      ]
     },
     "execution_count": 122,
     "metadata": {},
     "output_type": "execute_result"
    }
   ],
   "source": [
    "aerofoil_old"
   ]
  },
  {
   "cell_type": "code",
   "execution_count": 123,
   "id": "a8ae6391",
   "metadata": {},
   "outputs": [
    {
     "data": {
      "text/html": [
       "<table style='width: 100%;'><tr><th>Header</th><th>Data Arrays</th></tr><tr><td>\n",
       "<table style='width: 100%;'>\n",
       "<tr><th>PolyData</th><th>Information</th></tr>\n",
       "<tr><td>N Cells</td><td>994</td></tr>\n",
       "<tr><td>N Points</td><td>994</td></tr>\n",
       "<tr><td>N Strips</td><td>0</td></tr>\n",
       "<tr><td>X Bounds</td><td>-7.739e-06, 1.000e+00</td></tr>\n",
       "<tr><td>Y Bounds</td><td>-6.562e-02, 7.800e-02</td></tr>\n",
       "<tr><td>Z Bounds</td><td>5.000e-01, 5.000e-01</td></tr>\n",
       "<tr><td>N Arrays</td><td>10</td></tr>\n",
       "</table>\n",
       "\n",
       "</td><td>\n",
       "<table style='width: 100%;'>\n",
       "<tr><th>Name</th><th>Field</th><th>Type</th><th>N Comp</th><th>Min</th><th>Max</th></tr>\n",
       "<tr><td>nut</td><td>Points</td><td>float32</td><td>1</td><td>0.000e+00</td><td>0.000e+00</td></tr>\n",
       "<tr><td>p</td><td>Points</td><td>float32</td><td>1</td><td>-6.429e+02</td><td>4.899e+02</td></tr>\n",
       "<tr><td>U</td><td>Points</td><td>float32</td><td>3</td><td>0.000e+00</td><td>0.000e+00</td></tr>\n",
       "<tr><td>Normals</td><td>Points</td><td>float32</td><td>3</td><td>-1.000e+00</td><td>1.000e+00</td></tr>\n",
       "<tr><td>nut</td><td>Cells</td><td>float32</td><td>1</td><td>0.000e+00</td><td>0.000e+00</td></tr>\n",
       "<tr><td>p</td><td>Cells</td><td>float32</td><td>1</td><td>-6.431e+02</td><td>4.900e+02</td></tr>\n",
       "<tr><td>U</td><td>Cells</td><td>float32</td><td>3</td><td>0.000e+00</td><td>0.000e+00</td></tr>\n",
       "<tr><td>Normals</td><td>Cells</td><td>float32</td><td>3</td><td>-1.000e+00</td><td>1.000e+00</td></tr>\n",
       "<tr><td>Length</td><td>Cells</td><td>float64</td><td>1</td><td>5.626e-06</td><td>8.525e-03</td></tr>\n",
       "<tr><td>TimeValue</td><td>Fields</td><td>float32</td><td>1</td><td>2.000e+04</td><td>2.000e+04</td></tr>\n",
       "</table>\n",
       "\n",
       "</td></tr> </table>"
      ],
      "text/plain": [
       "PolyData (0x7fbcd76eaf20)\n",
       "  N Cells:    994\n",
       "  N Points:   994\n",
       "  N Strips:   0\n",
       "  X Bounds:   -7.739e-06, 1.000e+00\n",
       "  Y Bounds:   -6.562e-02, 7.800e-02\n",
       "  Z Bounds:   5.000e-01, 5.000e-01\n",
       "  N Arrays:   10"
      ]
     },
     "execution_count": 123,
     "metadata": {},
     "output_type": "execute_result"
    }
   ],
   "source": [
    "aerofoil"
   ]
  },
  {
   "cell_type": "code",
   "execution_count": 124,
   "id": "d7282a79",
   "metadata": {},
   "outputs": [
    {
     "data": {
      "text/html": [
       "<table style='width: 100%;'><tr><th>Header</th><th>Data Arrays</th></tr><tr><td>\n",
       "<table style='width: 100%;'>\n",
       "<tr><th>PolyData</th><th>Information</th></tr>\n",
       "<tr><td>N Cells</td><td>1706</td></tr>\n",
       "<tr><td>N Points</td><td>1706</td></tr>\n",
       "<tr><td>N Strips</td><td>0</td></tr>\n",
       "<tr><td>X Bounds</td><td>-2.000e+02, 2.000e+02</td></tr>\n",
       "<tr><td>Y Bounds</td><td>-2.000e+02, 2.000e+02</td></tr>\n",
       "<tr><td>Z Bounds</td><td>5.000e-01, 5.000e-01</td></tr>\n",
       "<tr><td>N Arrays</td><td>7</td></tr>\n",
       "</table>\n",
       "\n",
       "</td><td>\n",
       "<table style='width: 100%;'>\n",
       "<tr><th>Name</th><th>Field</th><th>Type</th><th>N Comp</th><th>Min</th><th>Max</th></tr>\n",
       "<tr><td>nut</td><td>Points</td><td>float32</td><td>1</td><td>3.027e-09</td><td>4.267e-03</td></tr>\n",
       "<tr><td>p</td><td>Points</td><td>float32</td><td>1</td><td>-1.258e-01</td><td>1.565e-01</td></tr>\n",
       "<tr><td>U</td><td>Points</td><td>float32</td><td>3</td><td>-2.267e+00</td><td>3.121e+01</td></tr>\n",
       "<tr><td>nut</td><td>Cells</td><td>float32</td><td>1</td><td>3.027e-09</td><td>4.268e-03</td></tr>\n",
       "<tr><td>p</td><td>Cells</td><td>float32</td><td>1</td><td>-1.258e-01</td><td>1.565e-01</td></tr>\n",
       "<tr><td>U</td><td>Cells</td><td>float32</td><td>3</td><td>-2.267e+00</td><td>3.121e+01</td></tr>\n",
       "<tr><td>TimeValue</td><td>Fields</td><td>float32</td><td>1</td><td>2.000e+04</td><td>2.000e+04</td></tr>\n",
       "</table>\n",
       "\n",
       "</td></tr> </table>"
      ],
      "text/plain": [
       "PolyData (0x7fbcd76eb5e0)\n",
       "  N Cells:    1706\n",
       "  N Points:   1706\n",
       "  N Strips:   0\n",
       "  X Bounds:   -2.000e+02, 2.000e+02\n",
       "  Y Bounds:   -2.000e+02, 2.000e+02\n",
       "  Z Bounds:   5.000e-01, 5.000e-01\n",
       "  N Arrays:   7"
      ]
     },
     "execution_count": 124,
     "metadata": {},
     "output_type": "execute_result"
    }
   ],
   "source": [
    "freestream_old"
   ]
  },
  {
   "cell_type": "code",
   "execution_count": 125,
   "id": "36f33188",
   "metadata": {},
   "outputs": [
    {
     "data": {
      "text/html": [
       "<table style='width: 100%;'><tr><th>Header</th><th>Data Arrays</th></tr><tr><td>\n",
       "<table style='width: 100%;'>\n",
       "<tr><th>PolyData</th><th>Information</th></tr>\n",
       "<tr><td>N Cells</td><td>1706</td></tr>\n",
       "<tr><td>N Points</td><td>1706</td></tr>\n",
       "<tr><td>N Strips</td><td>0</td></tr>\n",
       "<tr><td>X Bounds</td><td>-2.000e+02, 2.000e+02</td></tr>\n",
       "<tr><td>Y Bounds</td><td>-2.000e+02, 2.000e+02</td></tr>\n",
       "<tr><td>Z Bounds</td><td>5.000e-01, 5.000e-01</td></tr>\n",
       "<tr><td>N Arrays</td><td>7</td></tr>\n",
       "</table>\n",
       "\n",
       "</td><td>\n",
       "<table style='width: 100%;'>\n",
       "<tr><th>Name</th><th>Field</th><th>Type</th><th>N Comp</th><th>Min</th><th>Max</th></tr>\n",
       "<tr><td>nut</td><td>Points</td><td>float32</td><td>1</td><td>3.008e-09</td><td>4.270e-03</td></tr>\n",
       "<tr><td>p</td><td>Points</td><td>float32</td><td>1</td><td>-1.258e-01</td><td>1.565e-01</td></tr>\n",
       "<tr><td>U</td><td>Points</td><td>float32</td><td>3</td><td>-2.267e+00</td><td>3.121e+01</td></tr>\n",
       "<tr><td>nut</td><td>Cells</td><td>float32</td><td>1</td><td>3.008e-09</td><td>4.271e-03</td></tr>\n",
       "<tr><td>p</td><td>Cells</td><td>float32</td><td>1</td><td>-1.258e-01</td><td>1.565e-01</td></tr>\n",
       "<tr><td>U</td><td>Cells</td><td>float32</td><td>3</td><td>-2.267e+00</td><td>3.121e+01</td></tr>\n",
       "<tr><td>TimeValue</td><td>Fields</td><td>float32</td><td>1</td><td>2.000e+04</td><td>2.000e+04</td></tr>\n",
       "</table>\n",
       "\n",
       "</td></tr> </table>"
      ],
      "text/plain": [
       "PolyData (0x7fbcd76eb040)\n",
       "  N Cells:    1706\n",
       "  N Points:   1706\n",
       "  N Strips:   0\n",
       "  X Bounds:   -2.000e+02, 2.000e+02\n",
       "  Y Bounds:   -2.000e+02, 2.000e+02\n",
       "  Z Bounds:   5.000e-01, 5.000e-01\n",
       "  N Arrays:   7"
      ]
     },
     "execution_count": 125,
     "metadata": {},
     "output_type": "execute_result"
    }
   ],
   "source": [
    "freestream"
   ]
  },
  {
   "cell_type": "code",
   "execution_count": null,
   "id": "1554f82f",
   "metadata": {},
   "outputs": [],
   "source": []
  },
  {
   "cell_type": "code",
   "execution_count": null,
   "id": "b4396f72",
   "metadata": {},
   "outputs": [],
   "source": []
  }
 ],
 "metadata": {
  "kernelspec": {
   "display_name": "scaling_laws",
   "language": "python",
   "name": "python3"
  },
  "language_info": {
   "codemirror_mode": {
    "name": "ipython",
    "version": 3
   },
   "file_extension": ".py",
   "mimetype": "text/x-python",
   "name": "python",
   "nbconvert_exporter": "python",
   "pygments_lexer": "ipython3",
   "version": "3.12.11"
  }
 },
 "nbformat": 4,
 "nbformat_minor": 5
}
